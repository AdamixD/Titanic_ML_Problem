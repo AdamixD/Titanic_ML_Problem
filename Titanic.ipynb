{
 "cells": [
  {
   "cell_type": "markdown",
   "source": [
    "# Titanic - Machine Learning from Disaster"
   ],
   "metadata": {
    "collapsed": false,
    "pycharm": {
     "name": "#%% md\n"
    }
   }
  },
  {
   "cell_type": "markdown",
   "source": [
    "***Adam Dąbkowski***"
   ],
   "metadata": {
    "collapsed": false,
    "pycharm": {
     "name": "#%% md\n"
    }
   }
  },
  {
   "cell_type": "code",
   "execution_count": 3,
   "outputs": [],
   "source": [
    "from utils import *\n",
    "import pandas as pd\n",
    "import numpy as np"
   ],
   "metadata": {
    "collapsed": false,
    "pycharm": {
     "name": "#%%\n"
    }
   }
  },
  {
   "cell_type": "markdown",
   "source": [
    "## 1. Data acquisition"
   ],
   "metadata": {
    "collapsed": false,
    "pycharm": {
     "name": "#%% md\n"
    }
   }
  },
  {
   "cell_type": "code",
   "execution_count": 4,
   "outputs": [],
   "source": [
    "data_train = load_data('./data/train.csv')\n",
    "data_test = load_data('./data/test.csv')"
   ],
   "metadata": {
    "collapsed": false,
    "pycharm": {
     "name": "#%%\n"
    }
   }
  },
  {
   "cell_type": "markdown",
   "source": [
    "## 2. Data analysis"
   ],
   "metadata": {
    "collapsed": false,
    "pycharm": {
     "name": "#%% md\n"
    }
   }
  },
  {
   "cell_type": "code",
   "execution_count": 5,
   "outputs": [
    {
     "data": {
      "text/plain": "   PassengerId  Survived  Pclass  \\\n0            1         0       3   \n1            2         1       1   \n2            3         1       3   \n3            4         1       1   \n4            5         0       3   \n\n                                                Name     Sex   Age  SibSp  \\\n0                            Braund, Mr. Owen Harris    male  22.0      1   \n1  Cumings, Mrs. John Bradley (Florence Briggs Th...  female  38.0      1   \n2                             Heikkinen, Miss. Laina  female  26.0      0   \n3       Futrelle, Mrs. Jacques Heath (Lily May Peel)  female  35.0      1   \n4                           Allen, Mr. William Henry    male  35.0      0   \n\n   Parch            Ticket     Fare Cabin Embarked  \n0      0         A/5 21171   7.2500   NaN        S  \n1      0          PC 17599  71.2833   C85        C  \n2      0  STON/O2. 3101282   7.9250   NaN        S  \n3      0            113803  53.1000  C123        S  \n4      0            373450   8.0500   NaN        S  ",
      "text/html": "<div>\n<style scoped>\n    .dataframe tbody tr th:only-of-type {\n        vertical-align: middle;\n    }\n\n    .dataframe tbody tr th {\n        vertical-align: top;\n    }\n\n    .dataframe thead th {\n        text-align: right;\n    }\n</style>\n<table border=\"1\" class=\"dataframe\">\n  <thead>\n    <tr style=\"text-align: right;\">\n      <th></th>\n      <th>PassengerId</th>\n      <th>Survived</th>\n      <th>Pclass</th>\n      <th>Name</th>\n      <th>Sex</th>\n      <th>Age</th>\n      <th>SibSp</th>\n      <th>Parch</th>\n      <th>Ticket</th>\n      <th>Fare</th>\n      <th>Cabin</th>\n      <th>Embarked</th>\n    </tr>\n  </thead>\n  <tbody>\n    <tr>\n      <th>0</th>\n      <td>1</td>\n      <td>0</td>\n      <td>3</td>\n      <td>Braund, Mr. Owen Harris</td>\n      <td>male</td>\n      <td>22.0</td>\n      <td>1</td>\n      <td>0</td>\n      <td>A/5 21171</td>\n      <td>7.2500</td>\n      <td>NaN</td>\n      <td>S</td>\n    </tr>\n    <tr>\n      <th>1</th>\n      <td>2</td>\n      <td>1</td>\n      <td>1</td>\n      <td>Cumings, Mrs. John Bradley (Florence Briggs Th...</td>\n      <td>female</td>\n      <td>38.0</td>\n      <td>1</td>\n      <td>0</td>\n      <td>PC 17599</td>\n      <td>71.2833</td>\n      <td>C85</td>\n      <td>C</td>\n    </tr>\n    <tr>\n      <th>2</th>\n      <td>3</td>\n      <td>1</td>\n      <td>3</td>\n      <td>Heikkinen, Miss. Laina</td>\n      <td>female</td>\n      <td>26.0</td>\n      <td>0</td>\n      <td>0</td>\n      <td>STON/O2. 3101282</td>\n      <td>7.9250</td>\n      <td>NaN</td>\n      <td>S</td>\n    </tr>\n    <tr>\n      <th>3</th>\n      <td>4</td>\n      <td>1</td>\n      <td>1</td>\n      <td>Futrelle, Mrs. Jacques Heath (Lily May Peel)</td>\n      <td>female</td>\n      <td>35.0</td>\n      <td>1</td>\n      <td>0</td>\n      <td>113803</td>\n      <td>53.1000</td>\n      <td>C123</td>\n      <td>S</td>\n    </tr>\n    <tr>\n      <th>4</th>\n      <td>5</td>\n      <td>0</td>\n      <td>3</td>\n      <td>Allen, Mr. William Henry</td>\n      <td>male</td>\n      <td>35.0</td>\n      <td>0</td>\n      <td>0</td>\n      <td>373450</td>\n      <td>8.0500</td>\n      <td>NaN</td>\n      <td>S</td>\n    </tr>\n  </tbody>\n</table>\n</div>"
     },
     "execution_count": 5,
     "metadata": {},
     "output_type": "execute_result"
    }
   ],
   "source": [
    "data_train.head()"
   ],
   "metadata": {
    "collapsed": false,
    "pycharm": {
     "name": "#%%\n"
    }
   }
  },
  {
   "cell_type": "code",
   "execution_count": 6,
   "outputs": [
    {
     "name": "stdout",
     "output_type": "stream",
     "text": [
      "<class 'pandas.core.frame.DataFrame'>\n",
      "RangeIndex: 891 entries, 0 to 890\n",
      "Data columns (total 12 columns):\n",
      " #   Column       Non-Null Count  Dtype  \n",
      "---  ------       --------------  -----  \n",
      " 0   PassengerId  891 non-null    int64  \n",
      " 1   Survived     891 non-null    int64  \n",
      " 2   Pclass       891 non-null    int64  \n",
      " 3   Name         891 non-null    object \n",
      " 4   Sex          891 non-null    object \n",
      " 5   Age          714 non-null    float64\n",
      " 6   SibSp        891 non-null    int64  \n",
      " 7   Parch        891 non-null    int64  \n",
      " 8   Ticket       891 non-null    object \n",
      " 9   Fare         891 non-null    float64\n",
      " 10  Cabin        204 non-null    object \n",
      " 11  Embarked     889 non-null    object \n",
      "dtypes: float64(2), int64(5), object(5)\n",
      "memory usage: 83.7+ KB\n"
     ]
    }
   ],
   "source": [
    "data_train.info()"
   ],
   "metadata": {
    "collapsed": false,
    "pycharm": {
     "name": "#%%\n"
    }
   }
  },
  {
   "cell_type": "code",
   "execution_count": 7,
   "outputs": [
    {
     "data": {
      "text/plain": "       PassengerId    Survived      Pclass         Age       SibSp  \\\ncount   891.000000  891.000000  891.000000  714.000000  891.000000   \nmean    446.000000    0.383838    2.308642   29.699118    0.523008   \nstd     257.353842    0.486592    0.836071   14.526497    1.102743   \nmin       1.000000    0.000000    1.000000    0.420000    0.000000   \n25%     223.500000    0.000000    2.000000   20.125000    0.000000   \n50%     446.000000    0.000000    3.000000   28.000000    0.000000   \n75%     668.500000    1.000000    3.000000   38.000000    1.000000   \nmax     891.000000    1.000000    3.000000   80.000000    8.000000   \n\n            Parch        Fare  \ncount  891.000000  891.000000  \nmean     0.381594   32.204208  \nstd      0.806057   49.693429  \nmin      0.000000    0.000000  \n25%      0.000000    7.910400  \n50%      0.000000   14.454200  \n75%      0.000000   31.000000  \nmax      6.000000  512.329200  ",
      "text/html": "<div>\n<style scoped>\n    .dataframe tbody tr th:only-of-type {\n        vertical-align: middle;\n    }\n\n    .dataframe tbody tr th {\n        vertical-align: top;\n    }\n\n    .dataframe thead th {\n        text-align: right;\n    }\n</style>\n<table border=\"1\" class=\"dataframe\">\n  <thead>\n    <tr style=\"text-align: right;\">\n      <th></th>\n      <th>PassengerId</th>\n      <th>Survived</th>\n      <th>Pclass</th>\n      <th>Age</th>\n      <th>SibSp</th>\n      <th>Parch</th>\n      <th>Fare</th>\n    </tr>\n  </thead>\n  <tbody>\n    <tr>\n      <th>count</th>\n      <td>891.000000</td>\n      <td>891.000000</td>\n      <td>891.000000</td>\n      <td>714.000000</td>\n      <td>891.000000</td>\n      <td>891.000000</td>\n      <td>891.000000</td>\n    </tr>\n    <tr>\n      <th>mean</th>\n      <td>446.000000</td>\n      <td>0.383838</td>\n      <td>2.308642</td>\n      <td>29.699118</td>\n      <td>0.523008</td>\n      <td>0.381594</td>\n      <td>32.204208</td>\n    </tr>\n    <tr>\n      <th>std</th>\n      <td>257.353842</td>\n      <td>0.486592</td>\n      <td>0.836071</td>\n      <td>14.526497</td>\n      <td>1.102743</td>\n      <td>0.806057</td>\n      <td>49.693429</td>\n    </tr>\n    <tr>\n      <th>min</th>\n      <td>1.000000</td>\n      <td>0.000000</td>\n      <td>1.000000</td>\n      <td>0.420000</td>\n      <td>0.000000</td>\n      <td>0.000000</td>\n      <td>0.000000</td>\n    </tr>\n    <tr>\n      <th>25%</th>\n      <td>223.500000</td>\n      <td>0.000000</td>\n      <td>2.000000</td>\n      <td>20.125000</td>\n      <td>0.000000</td>\n      <td>0.000000</td>\n      <td>7.910400</td>\n    </tr>\n    <tr>\n      <th>50%</th>\n      <td>446.000000</td>\n      <td>0.000000</td>\n      <td>3.000000</td>\n      <td>28.000000</td>\n      <td>0.000000</td>\n      <td>0.000000</td>\n      <td>14.454200</td>\n    </tr>\n    <tr>\n      <th>75%</th>\n      <td>668.500000</td>\n      <td>1.000000</td>\n      <td>3.000000</td>\n      <td>38.000000</td>\n      <td>1.000000</td>\n      <td>0.000000</td>\n      <td>31.000000</td>\n    </tr>\n    <tr>\n      <th>max</th>\n      <td>891.000000</td>\n      <td>1.000000</td>\n      <td>3.000000</td>\n      <td>80.000000</td>\n      <td>8.000000</td>\n      <td>6.000000</td>\n      <td>512.329200</td>\n    </tr>\n  </tbody>\n</table>\n</div>"
     },
     "execution_count": 7,
     "metadata": {},
     "output_type": "execute_result"
    }
   ],
   "source": [
    "data_train.describe()"
   ],
   "metadata": {
    "collapsed": false,
    "pycharm": {
     "name": "#%%\n"
    }
   }
  },
  {
   "cell_type": "code",
   "execution_count": 8,
   "outputs": [
    {
     "data": {
      "text/plain": "0    549\n1    342\nName: Survived, dtype: int64"
     },
     "execution_count": 8,
     "metadata": {},
     "output_type": "execute_result"
    }
   ],
   "source": [
    "data_train[\"Survived\"].value_counts()"
   ],
   "metadata": {
    "collapsed": false,
    "pycharm": {
     "name": "#%%\n"
    }
   }
  },
  {
   "cell_type": "code",
   "execution_count": 9,
   "outputs": [
    {
     "data": {
      "text/plain": "3    491\n1    216\n2    184\nName: Pclass, dtype: int64"
     },
     "execution_count": 9,
     "metadata": {},
     "output_type": "execute_result"
    }
   ],
   "source": [
    "data_train[\"Pclass\"].value_counts()"
   ],
   "metadata": {
    "collapsed": false,
    "pycharm": {
     "name": "#%%\n"
    }
   }
  },
  {
   "cell_type": "code",
   "execution_count": 10,
   "outputs": [
    {
     "data": {
      "text/plain": "male      577\nfemale    314\nName: Sex, dtype: int64"
     },
     "execution_count": 10,
     "metadata": {},
     "output_type": "execute_result"
    }
   ],
   "source": [
    "data_train[\"Sex\"].value_counts()"
   ],
   "metadata": {
    "collapsed": false,
    "pycharm": {
     "name": "#%%\n"
    }
   }
  },
  {
   "cell_type": "code",
   "execution_count": 11,
   "outputs": [
    {
     "data": {
      "text/plain": "S    644\nC    168\nQ     77\nName: Embarked, dtype: int64"
     },
     "execution_count": 11,
     "metadata": {},
     "output_type": "execute_result"
    }
   ],
   "source": [
    "data_train[\"Embarked\"].value_counts()"
   ],
   "metadata": {
    "collapsed": false,
    "pycharm": {
     "name": "#%%\n"
    }
   }
  },
  {
   "cell_type": "markdown",
   "source": [
    "## 3. Data preparation"
   ],
   "metadata": {
    "collapsed": false,
    "pycharm": {
     "name": "#%% md\n"
    }
   }
  },
  {
   "cell_type": "code",
   "execution_count": 12,
   "outputs": [],
   "source": [
    "X_train = data_train.drop([\"Survived\"], axis=1)\n",
    "y_train = data_train[\"Survived\"]\n",
    "X_test = data_test.drop([\"Survived\"], axis=1)\n",
    "y_test = data_test[\"Survived\"]"
   ],
   "metadata": {
    "collapsed": false,
    "pycharm": {
     "name": "#%%\n"
    }
   }
  },
  {
   "cell_type": "code",
   "execution_count": 13,
   "outputs": [
    {
     "data": {
      "text/plain": "   PassengerId  Pclass                                               Name  \\\n0            1       3                            Braund, Mr. Owen Harris   \n1            2       1  Cumings, Mrs. John Bradley (Florence Briggs Th...   \n2            3       3                             Heikkinen, Miss. Laina   \n3            4       1       Futrelle, Mrs. Jacques Heath (Lily May Peel)   \n4            5       3                           Allen, Mr. William Henry   \n\n      Sex   Age  SibSp  Parch            Ticket     Fare Cabin Embarked  \n0    male  22.0      1      0         A/5 21171   7.2500   NaN        S  \n1  female  38.0      1      0          PC 17599  71.2833   C85        C  \n2  female  26.0      0      0  STON/O2. 3101282   7.9250   NaN        S  \n3  female  35.0      1      0            113803  53.1000  C123        S  \n4    male  35.0      0      0            373450   8.0500   NaN        S  ",
      "text/html": "<div>\n<style scoped>\n    .dataframe tbody tr th:only-of-type {\n        vertical-align: middle;\n    }\n\n    .dataframe tbody tr th {\n        vertical-align: top;\n    }\n\n    .dataframe thead th {\n        text-align: right;\n    }\n</style>\n<table border=\"1\" class=\"dataframe\">\n  <thead>\n    <tr style=\"text-align: right;\">\n      <th></th>\n      <th>PassengerId</th>\n      <th>Pclass</th>\n      <th>Name</th>\n      <th>Sex</th>\n      <th>Age</th>\n      <th>SibSp</th>\n      <th>Parch</th>\n      <th>Ticket</th>\n      <th>Fare</th>\n      <th>Cabin</th>\n      <th>Embarked</th>\n    </tr>\n  </thead>\n  <tbody>\n    <tr>\n      <th>0</th>\n      <td>1</td>\n      <td>3</td>\n      <td>Braund, Mr. Owen Harris</td>\n      <td>male</td>\n      <td>22.0</td>\n      <td>1</td>\n      <td>0</td>\n      <td>A/5 21171</td>\n      <td>7.2500</td>\n      <td>NaN</td>\n      <td>S</td>\n    </tr>\n    <tr>\n      <th>1</th>\n      <td>2</td>\n      <td>1</td>\n      <td>Cumings, Mrs. John Bradley (Florence Briggs Th...</td>\n      <td>female</td>\n      <td>38.0</td>\n      <td>1</td>\n      <td>0</td>\n      <td>PC 17599</td>\n      <td>71.2833</td>\n      <td>C85</td>\n      <td>C</td>\n    </tr>\n    <tr>\n      <th>2</th>\n      <td>3</td>\n      <td>3</td>\n      <td>Heikkinen, Miss. Laina</td>\n      <td>female</td>\n      <td>26.0</td>\n      <td>0</td>\n      <td>0</td>\n      <td>STON/O2. 3101282</td>\n      <td>7.9250</td>\n      <td>NaN</td>\n      <td>S</td>\n    </tr>\n    <tr>\n      <th>3</th>\n      <td>4</td>\n      <td>1</td>\n      <td>Futrelle, Mrs. Jacques Heath (Lily May Peel)</td>\n      <td>female</td>\n      <td>35.0</td>\n      <td>1</td>\n      <td>0</td>\n      <td>113803</td>\n      <td>53.1000</td>\n      <td>C123</td>\n      <td>S</td>\n    </tr>\n    <tr>\n      <th>4</th>\n      <td>5</td>\n      <td>3</td>\n      <td>Allen, Mr. William Henry</td>\n      <td>male</td>\n      <td>35.0</td>\n      <td>0</td>\n      <td>0</td>\n      <td>373450</td>\n      <td>8.0500</td>\n      <td>NaN</td>\n      <td>S</td>\n    </tr>\n  </tbody>\n</table>\n</div>"
     },
     "execution_count": 13,
     "metadata": {},
     "output_type": "execute_result"
    }
   ],
   "source": [
    "X_train.head()"
   ],
   "metadata": {
    "collapsed": false,
    "pycharm": {
     "name": "#%%\n"
    }
   }
  },
  {
   "cell_type": "code",
   "execution_count": 14,
   "outputs": [
    {
     "data": {
      "text/plain": "0    0\n1    1\n2    1\n3    1\n4    0\nName: Survived, dtype: int64"
     },
     "execution_count": 14,
     "metadata": {},
     "output_type": "execute_result"
    }
   ],
   "source": [
    "y_train.head()"
   ],
   "metadata": {
    "collapsed": false,
    "pycharm": {
     "name": "#%%\n"
    }
   }
  },
  {
   "cell_type": "markdown",
   "source": [
    "After analysis, we can conclude that features such as \"PassengerId\", \"Name\", \"Ticket\" are useless. We should also eliminate the \"Cabin\" feature, because in most cases this feature is empty. For further data preparation, we will divide the data into numeric and non-numeric.\n"
   ],
   "metadata": {
    "collapsed": false,
    "pycharm": {
     "name": "#%% md\n"
    }
   }
  },
  {
   "cell_type": "code",
   "execution_count": 15,
   "outputs": [],
   "source": [
    "num_attributes = [\"Age\", \"SibSp\", \"Parch\", \"Fare\"]\n",
    "cat_attributes = [\"Pclass\", \"Sex\", \"Embarked\"]\n",
    "\n",
    "X_train_num = X_train[num_attributes]\n",
    "X_train_cat = X_train[cat_attributes]\n",
    "X_test_num = X_test[num_attributes]\n",
    "X_test_cat = X_test[cat_attributes]"
   ],
   "metadata": {
    "collapsed": false,
    "pycharm": {
     "name": "#%%\n"
    }
   }
  },
  {
   "cell_type": "markdown",
   "source": [
    "In the next step we should fill the missing data in the numeric attributes. We will use median to fill in the empty fields. The most comfortable way is to implement pipeline"
   ],
   "metadata": {
    "collapsed": false,
    "pycharm": {
     "name": "#%% md\n"
    }
   }
  },
  {
   "cell_type": "code",
   "execution_count": 16,
   "outputs": [],
   "source": [
    "from sklearn.pipeline import Pipeline\n",
    "from sklearn.impute import SimpleImputer\n",
    "\n",
    "num_pipeline = Pipeline([\n",
    "    ('imputer', SimpleImputer(strategy=\"median\")),\n",
    "])"
   ],
   "metadata": {
    "collapsed": false,
    "pycharm": {
     "name": "#%%\n"
    }
   }
  },
  {
   "cell_type": "code",
   "execution_count": 17,
   "outputs": [],
   "source": [
    "X_train_num = num_pipeline.fit_transform(X_train_num)\n",
    "X_test_num = num_pipeline.transform(X_test_num)"
   ],
   "metadata": {
    "collapsed": false,
    "pycharm": {
     "name": "#%%\n"
    }
   }
  },
  {
   "cell_type": "markdown",
   "source": [
    "After this we can fill empty fields in \"Embarked\" feature and proceed to convert the categorical data.\n"
   ],
   "metadata": {
    "collapsed": false,
    "pycharm": {
     "name": "#%% md\n"
    }
   }
  },
  {
   "cell_type": "code",
   "execution_count": 18,
   "outputs": [],
   "source": [
    "from sklearn.preprocessing import OneHotEncoder\n",
    "\n",
    "cat_pipeline = Pipeline([\n",
    "    ('imputer', SimpleImputer(strategy=\"most_frequent\")),\n",
    "    (\"cat_encoder\", OneHotEncoder(sparse=False)),\n",
    "])"
   ],
   "metadata": {
    "collapsed": false,
    "pycharm": {
     "name": "#%%\n"
    }
   }
  },
  {
   "cell_type": "code",
   "execution_count": 19,
   "outputs": [],
   "source": [
    "X_train_cat = cat_pipeline.fit_transform(X_train_cat)\n",
    "X_test_cat = cat_pipeline.transform(X_test_cat)"
   ],
   "metadata": {
    "collapsed": false,
    "pycharm": {
     "name": "#%%\n"
    }
   }
  },
  {
   "cell_type": "code",
   "execution_count": 20,
   "outputs": [],
   "source": [
    "new_cat_attributes = []\n",
    "\n",
    "for cat_set in cat_pipeline['cat_encoder'].categories_:\n",
    "    for cat in cat_set:\n",
    "        new_cat_attributes.append(cat)"
   ],
   "metadata": {
    "collapsed": false,
    "pycharm": {
     "name": "#%%\n"
    }
   }
  },
  {
   "cell_type": "markdown",
   "source": [
    "In the next step we can merge \"X_train_cat\" and \"X_train_num\" together"
   ],
   "metadata": {
    "collapsed": false,
    "pycharm": {
     "name": "#%% md\n"
    }
   }
  },
  {
   "cell_type": "code",
   "execution_count": 21,
   "outputs": [],
   "source": [
    "attributes = num_attributes + new_cat_attributes\n",
    "X_train_data = np.c_[X_train_num, X_train_cat]\n",
    "X_test_data = np.c_[X_test_num, X_test_cat]\n",
    "\n",
    "X_train = pd.DataFrame(X_train_data, columns=attributes)\n",
    "X_test = pd.DataFrame(X_test_data, columns=attributes)"
   ],
   "metadata": {
    "collapsed": false,
    "pycharm": {
     "name": "#%%\n"
    }
   }
  },
  {
   "cell_type": "code",
   "execution_count": 22,
   "outputs": [
    {
     "data": {
      "text/plain": "    Age  SibSp  Parch     Fare    1    2    3  female  male    C    Q    S\n0  22.0    1.0    0.0   7.2500  0.0  0.0  1.0     0.0   1.0  0.0  0.0  1.0\n1  38.0    1.0    0.0  71.2833  1.0  0.0  0.0     1.0   0.0  1.0  0.0  0.0\n2  26.0    0.0    0.0   7.9250  0.0  0.0  1.0     1.0   0.0  0.0  0.0  1.0\n3  35.0    1.0    0.0  53.1000  1.0  0.0  0.0     1.0   0.0  0.0  0.0  1.0\n4  35.0    0.0    0.0   8.0500  0.0  0.0  1.0     0.0   1.0  0.0  0.0  1.0",
      "text/html": "<div>\n<style scoped>\n    .dataframe tbody tr th:only-of-type {\n        vertical-align: middle;\n    }\n\n    .dataframe tbody tr th {\n        vertical-align: top;\n    }\n\n    .dataframe thead th {\n        text-align: right;\n    }\n</style>\n<table border=\"1\" class=\"dataframe\">\n  <thead>\n    <tr style=\"text-align: right;\">\n      <th></th>\n      <th>Age</th>\n      <th>SibSp</th>\n      <th>Parch</th>\n      <th>Fare</th>\n      <th>1</th>\n      <th>2</th>\n      <th>3</th>\n      <th>female</th>\n      <th>male</th>\n      <th>C</th>\n      <th>Q</th>\n      <th>S</th>\n    </tr>\n  </thead>\n  <tbody>\n    <tr>\n      <th>0</th>\n      <td>22.0</td>\n      <td>1.0</td>\n      <td>0.0</td>\n      <td>7.2500</td>\n      <td>0.0</td>\n      <td>0.0</td>\n      <td>1.0</td>\n      <td>0.0</td>\n      <td>1.0</td>\n      <td>0.0</td>\n      <td>0.0</td>\n      <td>1.0</td>\n    </tr>\n    <tr>\n      <th>1</th>\n      <td>38.0</td>\n      <td>1.0</td>\n      <td>0.0</td>\n      <td>71.2833</td>\n      <td>1.0</td>\n      <td>0.0</td>\n      <td>0.0</td>\n      <td>1.0</td>\n      <td>0.0</td>\n      <td>1.0</td>\n      <td>0.0</td>\n      <td>0.0</td>\n    </tr>\n    <tr>\n      <th>2</th>\n      <td>26.0</td>\n      <td>0.0</td>\n      <td>0.0</td>\n      <td>7.9250</td>\n      <td>0.0</td>\n      <td>0.0</td>\n      <td>1.0</td>\n      <td>1.0</td>\n      <td>0.0</td>\n      <td>0.0</td>\n      <td>0.0</td>\n      <td>1.0</td>\n    </tr>\n    <tr>\n      <th>3</th>\n      <td>35.0</td>\n      <td>1.0</td>\n      <td>0.0</td>\n      <td>53.1000</td>\n      <td>1.0</td>\n      <td>0.0</td>\n      <td>0.0</td>\n      <td>1.0</td>\n      <td>0.0</td>\n      <td>0.0</td>\n      <td>0.0</td>\n      <td>1.0</td>\n    </tr>\n    <tr>\n      <th>4</th>\n      <td>35.0</td>\n      <td>0.0</td>\n      <td>0.0</td>\n      <td>8.0500</td>\n      <td>0.0</td>\n      <td>0.0</td>\n      <td>1.0</td>\n      <td>0.0</td>\n      <td>1.0</td>\n      <td>0.0</td>\n      <td>0.0</td>\n      <td>1.0</td>\n    </tr>\n  </tbody>\n</table>\n</div>"
     },
     "execution_count": 22,
     "metadata": {},
     "output_type": "execute_result"
    }
   ],
   "source": [
    "X_train.head()"
   ],
   "metadata": {
    "collapsed": false,
    "pycharm": {
     "name": "#%%\n"
    }
   }
  },
  {
   "cell_type": "markdown",
   "source": [
    "Now, we should check the correlation of features"
   ],
   "metadata": {
    "collapsed": false,
    "pycharm": {
     "name": "#%% md\n"
    }
   }
  },
  {
   "cell_type": "code",
   "execution_count": 23,
   "outputs": [],
   "source": [
    "X_train_surv = X_train.copy()\n",
    "X_train_surv[\"Survived\"] = y_train"
   ],
   "metadata": {
    "collapsed": false,
    "pycharm": {
     "name": "#%%\n"
    }
   }
  },
  {
   "cell_type": "code",
   "execution_count": 24,
   "outputs": [
    {
     "data": {
      "text/plain": "               Age     SibSp     Parch      Fare         1         2  \\\nAge       1.000000 -0.233296 -0.172482  0.096688  0.323896  0.015831   \nSibSp    -0.233296  1.000000  0.414838  0.159651 -0.054582 -0.055932   \nParch    -0.172482  0.414838  1.000000  0.216225 -0.017633 -0.000734   \nFare      0.096688  0.159651  0.216225  1.000000  0.591711 -0.118557   \n1         0.323896 -0.054582 -0.017633  0.591711  1.000000 -0.288585   \n2         0.015831 -0.055932 -0.000734 -0.118557 -0.288585  1.000000   \n3        -0.291955  0.092548  0.015790 -0.413333 -0.626738 -0.565210   \nfemale   -0.081163  0.114631  0.245489  0.182333  0.098013  0.064746   \nmale      0.081163 -0.114631 -0.245489 -0.182333 -0.098013 -0.064746   \nC         0.030248 -0.059528 -0.011069  0.269335  0.296423 -0.125416   \nQ        -0.031415 -0.026354 -0.081228 -0.117216 -0.155342 -0.127301   \nS        -0.006729  0.068734  0.060814 -0.162184 -0.161921  0.189980   \nSurvived -0.064910 -0.035322  0.081629  0.257307  0.285904  0.093349   \n\n                 3    female      male         C         Q         S  Survived  \nAge      -0.291955 -0.081163  0.081163  0.030248 -0.031415 -0.006729 -0.064910  \nSibSp     0.092548  0.114631 -0.114631 -0.059528 -0.026354  0.068734 -0.035322  \nParch     0.015790  0.245489 -0.245489 -0.011069 -0.081228  0.060814  0.081629  \nFare     -0.413333  0.182333 -0.182333  0.269335 -0.117216 -0.162184  0.257307  \n1        -0.626738  0.098013 -0.098013  0.296423 -0.155342 -0.161921  0.285904  \n2        -0.565210  0.064746 -0.064746 -0.125416 -0.127301  0.189980  0.093349  \n3         1.000000 -0.137143  0.137143 -0.153329  0.237449 -0.015104 -0.322308  \nfemale   -0.137143  1.000000 -1.000000  0.082853  0.074115 -0.119224  0.543351  \nmale      0.137143 -1.000000  1.000000 -0.082853 -0.074115  0.119224 -0.543351  \nC        -0.153329  0.082853 -0.082853  1.000000 -0.148258 -0.782742  0.168240  \nQ         0.237449  0.074115 -0.074115 -0.148258  1.000000 -0.499421  0.003650  \nS        -0.015104 -0.119224  0.119224 -0.782742 -0.499421  1.000000 -0.149683  \nSurvived -0.322308  0.543351 -0.543351  0.168240  0.003650 -0.149683  1.000000  ",
      "text/html": "<div>\n<style scoped>\n    .dataframe tbody tr th:only-of-type {\n        vertical-align: middle;\n    }\n\n    .dataframe tbody tr th {\n        vertical-align: top;\n    }\n\n    .dataframe thead th {\n        text-align: right;\n    }\n</style>\n<table border=\"1\" class=\"dataframe\">\n  <thead>\n    <tr style=\"text-align: right;\">\n      <th></th>\n      <th>Age</th>\n      <th>SibSp</th>\n      <th>Parch</th>\n      <th>Fare</th>\n      <th>1</th>\n      <th>2</th>\n      <th>3</th>\n      <th>female</th>\n      <th>male</th>\n      <th>C</th>\n      <th>Q</th>\n      <th>S</th>\n      <th>Survived</th>\n    </tr>\n  </thead>\n  <tbody>\n    <tr>\n      <th>Age</th>\n      <td>1.000000</td>\n      <td>-0.233296</td>\n      <td>-0.172482</td>\n      <td>0.096688</td>\n      <td>0.323896</td>\n      <td>0.015831</td>\n      <td>-0.291955</td>\n      <td>-0.081163</td>\n      <td>0.081163</td>\n      <td>0.030248</td>\n      <td>-0.031415</td>\n      <td>-0.006729</td>\n      <td>-0.064910</td>\n    </tr>\n    <tr>\n      <th>SibSp</th>\n      <td>-0.233296</td>\n      <td>1.000000</td>\n      <td>0.414838</td>\n      <td>0.159651</td>\n      <td>-0.054582</td>\n      <td>-0.055932</td>\n      <td>0.092548</td>\n      <td>0.114631</td>\n      <td>-0.114631</td>\n      <td>-0.059528</td>\n      <td>-0.026354</td>\n      <td>0.068734</td>\n      <td>-0.035322</td>\n    </tr>\n    <tr>\n      <th>Parch</th>\n      <td>-0.172482</td>\n      <td>0.414838</td>\n      <td>1.000000</td>\n      <td>0.216225</td>\n      <td>-0.017633</td>\n      <td>-0.000734</td>\n      <td>0.015790</td>\n      <td>0.245489</td>\n      <td>-0.245489</td>\n      <td>-0.011069</td>\n      <td>-0.081228</td>\n      <td>0.060814</td>\n      <td>0.081629</td>\n    </tr>\n    <tr>\n      <th>Fare</th>\n      <td>0.096688</td>\n      <td>0.159651</td>\n      <td>0.216225</td>\n      <td>1.000000</td>\n      <td>0.591711</td>\n      <td>-0.118557</td>\n      <td>-0.413333</td>\n      <td>0.182333</td>\n      <td>-0.182333</td>\n      <td>0.269335</td>\n      <td>-0.117216</td>\n      <td>-0.162184</td>\n      <td>0.257307</td>\n    </tr>\n    <tr>\n      <th>1</th>\n      <td>0.323896</td>\n      <td>-0.054582</td>\n      <td>-0.017633</td>\n      <td>0.591711</td>\n      <td>1.000000</td>\n      <td>-0.288585</td>\n      <td>-0.626738</td>\n      <td>0.098013</td>\n      <td>-0.098013</td>\n      <td>0.296423</td>\n      <td>-0.155342</td>\n      <td>-0.161921</td>\n      <td>0.285904</td>\n    </tr>\n    <tr>\n      <th>2</th>\n      <td>0.015831</td>\n      <td>-0.055932</td>\n      <td>-0.000734</td>\n      <td>-0.118557</td>\n      <td>-0.288585</td>\n      <td>1.000000</td>\n      <td>-0.565210</td>\n      <td>0.064746</td>\n      <td>-0.064746</td>\n      <td>-0.125416</td>\n      <td>-0.127301</td>\n      <td>0.189980</td>\n      <td>0.093349</td>\n    </tr>\n    <tr>\n      <th>3</th>\n      <td>-0.291955</td>\n      <td>0.092548</td>\n      <td>0.015790</td>\n      <td>-0.413333</td>\n      <td>-0.626738</td>\n      <td>-0.565210</td>\n      <td>1.000000</td>\n      <td>-0.137143</td>\n      <td>0.137143</td>\n      <td>-0.153329</td>\n      <td>0.237449</td>\n      <td>-0.015104</td>\n      <td>-0.322308</td>\n    </tr>\n    <tr>\n      <th>female</th>\n      <td>-0.081163</td>\n      <td>0.114631</td>\n      <td>0.245489</td>\n      <td>0.182333</td>\n      <td>0.098013</td>\n      <td>0.064746</td>\n      <td>-0.137143</td>\n      <td>1.000000</td>\n      <td>-1.000000</td>\n      <td>0.082853</td>\n      <td>0.074115</td>\n      <td>-0.119224</td>\n      <td>0.543351</td>\n    </tr>\n    <tr>\n      <th>male</th>\n      <td>0.081163</td>\n      <td>-0.114631</td>\n      <td>-0.245489</td>\n      <td>-0.182333</td>\n      <td>-0.098013</td>\n      <td>-0.064746</td>\n      <td>0.137143</td>\n      <td>-1.000000</td>\n      <td>1.000000</td>\n      <td>-0.082853</td>\n      <td>-0.074115</td>\n      <td>0.119224</td>\n      <td>-0.543351</td>\n    </tr>\n    <tr>\n      <th>C</th>\n      <td>0.030248</td>\n      <td>-0.059528</td>\n      <td>-0.011069</td>\n      <td>0.269335</td>\n      <td>0.296423</td>\n      <td>-0.125416</td>\n      <td>-0.153329</td>\n      <td>0.082853</td>\n      <td>-0.082853</td>\n      <td>1.000000</td>\n      <td>-0.148258</td>\n      <td>-0.782742</td>\n      <td>0.168240</td>\n    </tr>\n    <tr>\n      <th>Q</th>\n      <td>-0.031415</td>\n      <td>-0.026354</td>\n      <td>-0.081228</td>\n      <td>-0.117216</td>\n      <td>-0.155342</td>\n      <td>-0.127301</td>\n      <td>0.237449</td>\n      <td>0.074115</td>\n      <td>-0.074115</td>\n      <td>-0.148258</td>\n      <td>1.000000</td>\n      <td>-0.499421</td>\n      <td>0.003650</td>\n    </tr>\n    <tr>\n      <th>S</th>\n      <td>-0.006729</td>\n      <td>0.068734</td>\n      <td>0.060814</td>\n      <td>-0.162184</td>\n      <td>-0.161921</td>\n      <td>0.189980</td>\n      <td>-0.015104</td>\n      <td>-0.119224</td>\n      <td>0.119224</td>\n      <td>-0.782742</td>\n      <td>-0.499421</td>\n      <td>1.000000</td>\n      <td>-0.149683</td>\n    </tr>\n    <tr>\n      <th>Survived</th>\n      <td>-0.064910</td>\n      <td>-0.035322</td>\n      <td>0.081629</td>\n      <td>0.257307</td>\n      <td>0.285904</td>\n      <td>0.093349</td>\n      <td>-0.322308</td>\n      <td>0.543351</td>\n      <td>-0.543351</td>\n      <td>0.168240</td>\n      <td>0.003650</td>\n      <td>-0.149683</td>\n      <td>1.000000</td>\n    </tr>\n  </tbody>\n</table>\n</div>"
     },
     "execution_count": 24,
     "metadata": {},
     "output_type": "execute_result"
    }
   ],
   "source": [
    "corr_matrix = X_train_surv.corr()\n",
    "corr_matrix"
   ],
   "metadata": {
    "collapsed": false,
    "pycharm": {
     "name": "#%%\n"
    }
   }
  },
  {
   "cell_type": "code",
   "execution_count": 25,
   "outputs": [
    {
     "data": {
      "text/plain": "Survived    1.000000\nfemale      0.543351\n1           0.285904\nFare        0.257307\nC           0.168240\n2           0.093349\nParch       0.081629\nQ           0.003650\nSibSp      -0.035322\nAge        -0.064910\nS          -0.149683\n3          -0.322308\nmale       -0.543351\nName: Survived, dtype: float64"
     },
     "execution_count": 25,
     "metadata": {},
     "output_type": "execute_result"
    }
   ],
   "source": [
    "corr_matrix[\"Survived\"].sort_values(ascending=False)"
   ],
   "metadata": {
    "collapsed": false,
    "pycharm": {
     "name": "#%%\n"
    }
   }
  },
  {
   "cell_type": "markdown",
   "source": [
    "We can also add new features."
   ],
   "metadata": {
    "collapsed": false,
    "pycharm": {
     "name": "#%% md\n"
    }
   }
  },
  {
   "cell_type": "code",
   "execution_count": 26,
   "outputs": [],
   "source": [
    "X_train[\"Family Members\"] = X_train[\"Parch\"] + X_train[\"SibSp\"]\n",
    "X_train[\"Not Alone\"] = (X_train[\"Family Members\"] != 0)\n",
    "\n",
    "X_test[\"Family Members\"] = X_test[\"Parch\"] + X_test[\"SibSp\"]\n",
    "X_test[\"Not Alone\"] = (X_test[\"Family Members\"] != 0)"
   ],
   "metadata": {
    "collapsed": false,
    "pycharm": {
     "name": "#%%\n"
    }
   }
  },
  {
   "cell_type": "code",
   "execution_count": 27,
   "outputs": [],
   "source": [
    "X_train_surv = X_train.copy()\n",
    "X_train_surv[\"Survived\"] = y_train"
   ],
   "metadata": {
    "collapsed": false,
    "pycharm": {
     "name": "#%%\n"
    }
   }
  },
  {
   "cell_type": "code",
   "execution_count": 28,
   "outputs": [
    {
     "data": {
      "text/plain": "                     Age     SibSp     Parch      Fare         1         2  \\\nAge             1.000000 -0.233296 -0.172482  0.096688  0.323896  0.015831   \nSibSp          -0.233296  1.000000  0.414838  0.159651 -0.054582 -0.055932   \nParch          -0.172482  0.414838  1.000000  0.216225 -0.017633 -0.000734   \nFare            0.096688  0.159651  0.216225  1.000000  0.591711 -0.118557   \n1               0.323896 -0.054582 -0.017633  0.591711  1.000000 -0.288585   \n2               0.015831 -0.055932 -0.000734 -0.118557 -0.288585  1.000000   \n3              -0.291955  0.092548  0.015790 -0.413333 -0.626738 -0.565210   \nfemale         -0.081163  0.114631  0.245489  0.182333  0.098013  0.064746   \nmale            0.081163 -0.114631 -0.245489 -0.182333 -0.098013 -0.064746   \nC               0.030248 -0.059528 -0.011069  0.269335  0.296423 -0.125416   \nQ              -0.031415 -0.026354 -0.081228 -0.117216 -0.155342 -0.127301   \nS              -0.006729  0.068734  0.060814 -0.162184 -0.161921  0.189980   \nFamily Members -0.245619  0.890712  0.783111  0.217138 -0.046114 -0.038594   \nNot Alone      -0.171647  0.584471  0.583398  0.271832  0.113364  0.039070   \nSurvived       -0.064910 -0.035322  0.081629  0.257307  0.285904  0.093349   \n\n                       3    female      male         C         Q         S  \\\nAge            -0.291955 -0.081163  0.081163  0.030248 -0.031415 -0.006729   \nSibSp           0.092548  0.114631 -0.114631 -0.059528 -0.026354  0.068734   \nParch           0.015790  0.245489 -0.245489 -0.011069 -0.081228  0.060814   \nFare           -0.413333  0.182333 -0.182333  0.269335 -0.117216 -0.162184   \n1              -0.626738  0.098013 -0.098013  0.296423 -0.155342 -0.161921   \n2              -0.565210  0.064746 -0.064746 -0.125416 -0.127301  0.189980   \n3               1.000000 -0.137143  0.137143 -0.153329  0.237449 -0.015104   \nfemale         -0.137143  1.000000 -1.000000  0.082853  0.074115 -0.119224   \nmale            0.137143 -1.000000  1.000000 -0.082853 -0.074115  0.119224   \nC              -0.153329  0.082853 -0.082853  1.000000 -0.148258 -0.782742   \nQ               0.237449  0.074115 -0.074115 -0.148258  1.000000 -0.499421   \nS              -0.015104 -0.119224  0.119224 -0.782742 -0.499421  1.000000   \nFamily Members  0.071142  0.200988 -0.200988 -0.046215 -0.058592  0.077359   \nNot Alone      -0.129472  0.303646 -0.303646  0.095298 -0.086464 -0.029074   \nSurvived       -0.322308  0.543351 -0.543351  0.168240  0.003650 -0.149683   \n\n                Family Members  Not Alone  Survived  \nAge                  -0.245619  -0.171647 -0.064910  \nSibSp                 0.890712   0.584471 -0.035322  \nParch                 0.783111   0.583398  0.081629  \nFare                  0.217138   0.271832  0.257307  \n1                    -0.046114   0.113364  0.285904  \n2                    -0.038594   0.039070  0.093349  \n3                     0.071142  -0.129472 -0.322308  \nfemale                0.200988   0.303646  0.543351  \nmale                 -0.200988  -0.303646 -0.543351  \nC                    -0.046215   0.095298  0.168240  \nQ                    -0.058592  -0.086464  0.003650  \nS                     0.077359  -0.029074 -0.149683  \nFamily Members        1.000000   0.690922  0.016639  \nNot Alone             0.690922   1.000000  0.203367  \nSurvived              0.016639   0.203367  1.000000  ",
      "text/html": "<div>\n<style scoped>\n    .dataframe tbody tr th:only-of-type {\n        vertical-align: middle;\n    }\n\n    .dataframe tbody tr th {\n        vertical-align: top;\n    }\n\n    .dataframe thead th {\n        text-align: right;\n    }\n</style>\n<table border=\"1\" class=\"dataframe\">\n  <thead>\n    <tr style=\"text-align: right;\">\n      <th></th>\n      <th>Age</th>\n      <th>SibSp</th>\n      <th>Parch</th>\n      <th>Fare</th>\n      <th>1</th>\n      <th>2</th>\n      <th>3</th>\n      <th>female</th>\n      <th>male</th>\n      <th>C</th>\n      <th>Q</th>\n      <th>S</th>\n      <th>Family Members</th>\n      <th>Not Alone</th>\n      <th>Survived</th>\n    </tr>\n  </thead>\n  <tbody>\n    <tr>\n      <th>Age</th>\n      <td>1.000000</td>\n      <td>-0.233296</td>\n      <td>-0.172482</td>\n      <td>0.096688</td>\n      <td>0.323896</td>\n      <td>0.015831</td>\n      <td>-0.291955</td>\n      <td>-0.081163</td>\n      <td>0.081163</td>\n      <td>0.030248</td>\n      <td>-0.031415</td>\n      <td>-0.006729</td>\n      <td>-0.245619</td>\n      <td>-0.171647</td>\n      <td>-0.064910</td>\n    </tr>\n    <tr>\n      <th>SibSp</th>\n      <td>-0.233296</td>\n      <td>1.000000</td>\n      <td>0.414838</td>\n      <td>0.159651</td>\n      <td>-0.054582</td>\n      <td>-0.055932</td>\n      <td>0.092548</td>\n      <td>0.114631</td>\n      <td>-0.114631</td>\n      <td>-0.059528</td>\n      <td>-0.026354</td>\n      <td>0.068734</td>\n      <td>0.890712</td>\n      <td>0.584471</td>\n      <td>-0.035322</td>\n    </tr>\n    <tr>\n      <th>Parch</th>\n      <td>-0.172482</td>\n      <td>0.414838</td>\n      <td>1.000000</td>\n      <td>0.216225</td>\n      <td>-0.017633</td>\n      <td>-0.000734</td>\n      <td>0.015790</td>\n      <td>0.245489</td>\n      <td>-0.245489</td>\n      <td>-0.011069</td>\n      <td>-0.081228</td>\n      <td>0.060814</td>\n      <td>0.783111</td>\n      <td>0.583398</td>\n      <td>0.081629</td>\n    </tr>\n    <tr>\n      <th>Fare</th>\n      <td>0.096688</td>\n      <td>0.159651</td>\n      <td>0.216225</td>\n      <td>1.000000</td>\n      <td>0.591711</td>\n      <td>-0.118557</td>\n      <td>-0.413333</td>\n      <td>0.182333</td>\n      <td>-0.182333</td>\n      <td>0.269335</td>\n      <td>-0.117216</td>\n      <td>-0.162184</td>\n      <td>0.217138</td>\n      <td>0.271832</td>\n      <td>0.257307</td>\n    </tr>\n    <tr>\n      <th>1</th>\n      <td>0.323896</td>\n      <td>-0.054582</td>\n      <td>-0.017633</td>\n      <td>0.591711</td>\n      <td>1.000000</td>\n      <td>-0.288585</td>\n      <td>-0.626738</td>\n      <td>0.098013</td>\n      <td>-0.098013</td>\n      <td>0.296423</td>\n      <td>-0.155342</td>\n      <td>-0.161921</td>\n      <td>-0.046114</td>\n      <td>0.113364</td>\n      <td>0.285904</td>\n    </tr>\n    <tr>\n      <th>2</th>\n      <td>0.015831</td>\n      <td>-0.055932</td>\n      <td>-0.000734</td>\n      <td>-0.118557</td>\n      <td>-0.288585</td>\n      <td>1.000000</td>\n      <td>-0.565210</td>\n      <td>0.064746</td>\n      <td>-0.064746</td>\n      <td>-0.125416</td>\n      <td>-0.127301</td>\n      <td>0.189980</td>\n      <td>-0.038594</td>\n      <td>0.039070</td>\n      <td>0.093349</td>\n    </tr>\n    <tr>\n      <th>3</th>\n      <td>-0.291955</td>\n      <td>0.092548</td>\n      <td>0.015790</td>\n      <td>-0.413333</td>\n      <td>-0.626738</td>\n      <td>-0.565210</td>\n      <td>1.000000</td>\n      <td>-0.137143</td>\n      <td>0.137143</td>\n      <td>-0.153329</td>\n      <td>0.237449</td>\n      <td>-0.015104</td>\n      <td>0.071142</td>\n      <td>-0.129472</td>\n      <td>-0.322308</td>\n    </tr>\n    <tr>\n      <th>female</th>\n      <td>-0.081163</td>\n      <td>0.114631</td>\n      <td>0.245489</td>\n      <td>0.182333</td>\n      <td>0.098013</td>\n      <td>0.064746</td>\n      <td>-0.137143</td>\n      <td>1.000000</td>\n      <td>-1.000000</td>\n      <td>0.082853</td>\n      <td>0.074115</td>\n      <td>-0.119224</td>\n      <td>0.200988</td>\n      <td>0.303646</td>\n      <td>0.543351</td>\n    </tr>\n    <tr>\n      <th>male</th>\n      <td>0.081163</td>\n      <td>-0.114631</td>\n      <td>-0.245489</td>\n      <td>-0.182333</td>\n      <td>-0.098013</td>\n      <td>-0.064746</td>\n      <td>0.137143</td>\n      <td>-1.000000</td>\n      <td>1.000000</td>\n      <td>-0.082853</td>\n      <td>-0.074115</td>\n      <td>0.119224</td>\n      <td>-0.200988</td>\n      <td>-0.303646</td>\n      <td>-0.543351</td>\n    </tr>\n    <tr>\n      <th>C</th>\n      <td>0.030248</td>\n      <td>-0.059528</td>\n      <td>-0.011069</td>\n      <td>0.269335</td>\n      <td>0.296423</td>\n      <td>-0.125416</td>\n      <td>-0.153329</td>\n      <td>0.082853</td>\n      <td>-0.082853</td>\n      <td>1.000000</td>\n      <td>-0.148258</td>\n      <td>-0.782742</td>\n      <td>-0.046215</td>\n      <td>0.095298</td>\n      <td>0.168240</td>\n    </tr>\n    <tr>\n      <th>Q</th>\n      <td>-0.031415</td>\n      <td>-0.026354</td>\n      <td>-0.081228</td>\n      <td>-0.117216</td>\n      <td>-0.155342</td>\n      <td>-0.127301</td>\n      <td>0.237449</td>\n      <td>0.074115</td>\n      <td>-0.074115</td>\n      <td>-0.148258</td>\n      <td>1.000000</td>\n      <td>-0.499421</td>\n      <td>-0.058592</td>\n      <td>-0.086464</td>\n      <td>0.003650</td>\n    </tr>\n    <tr>\n      <th>S</th>\n      <td>-0.006729</td>\n      <td>0.068734</td>\n      <td>0.060814</td>\n      <td>-0.162184</td>\n      <td>-0.161921</td>\n      <td>0.189980</td>\n      <td>-0.015104</td>\n      <td>-0.119224</td>\n      <td>0.119224</td>\n      <td>-0.782742</td>\n      <td>-0.499421</td>\n      <td>1.000000</td>\n      <td>0.077359</td>\n      <td>-0.029074</td>\n      <td>-0.149683</td>\n    </tr>\n    <tr>\n      <th>Family Members</th>\n      <td>-0.245619</td>\n      <td>0.890712</td>\n      <td>0.783111</td>\n      <td>0.217138</td>\n      <td>-0.046114</td>\n      <td>-0.038594</td>\n      <td>0.071142</td>\n      <td>0.200988</td>\n      <td>-0.200988</td>\n      <td>-0.046215</td>\n      <td>-0.058592</td>\n      <td>0.077359</td>\n      <td>1.000000</td>\n      <td>0.690922</td>\n      <td>0.016639</td>\n    </tr>\n    <tr>\n      <th>Not Alone</th>\n      <td>-0.171647</td>\n      <td>0.584471</td>\n      <td>0.583398</td>\n      <td>0.271832</td>\n      <td>0.113364</td>\n      <td>0.039070</td>\n      <td>-0.129472</td>\n      <td>0.303646</td>\n      <td>-0.303646</td>\n      <td>0.095298</td>\n      <td>-0.086464</td>\n      <td>-0.029074</td>\n      <td>0.690922</td>\n      <td>1.000000</td>\n      <td>0.203367</td>\n    </tr>\n    <tr>\n      <th>Survived</th>\n      <td>-0.064910</td>\n      <td>-0.035322</td>\n      <td>0.081629</td>\n      <td>0.257307</td>\n      <td>0.285904</td>\n      <td>0.093349</td>\n      <td>-0.322308</td>\n      <td>0.543351</td>\n      <td>-0.543351</td>\n      <td>0.168240</td>\n      <td>0.003650</td>\n      <td>-0.149683</td>\n      <td>0.016639</td>\n      <td>0.203367</td>\n      <td>1.000000</td>\n    </tr>\n  </tbody>\n</table>\n</div>"
     },
     "execution_count": 28,
     "metadata": {},
     "output_type": "execute_result"
    }
   ],
   "source": [
    "corr_matrix = X_train_surv.corr()\n",
    "corr_matrix"
   ],
   "metadata": {
    "collapsed": false,
    "pycharm": {
     "name": "#%%\n"
    }
   }
  },
  {
   "cell_type": "code",
   "execution_count": 29,
   "outputs": [
    {
     "data": {
      "text/plain": "Survived          1.000000\nfemale            0.543351\n1                 0.285904\nFare              0.257307\nNot Alone         0.203367\nC                 0.168240\n2                 0.093349\nParch             0.081629\nFamily Members    0.016639\nQ                 0.003650\nSibSp            -0.035322\nAge              -0.064910\nS                -0.149683\n3                -0.322308\nmale             -0.543351\nName: Survived, dtype: float64"
     },
     "execution_count": 29,
     "metadata": {},
     "output_type": "execute_result"
    }
   ],
   "source": [
    "corr_matrix[\"Survived\"].sort_values(ascending=False)"
   ],
   "metadata": {
    "collapsed": false,
    "pycharm": {
     "name": "#%%\n"
    }
   }
  },
  {
   "cell_type": "markdown",
   "source": [
    "As we can see, we got two new features."
   ],
   "metadata": {
    "collapsed": false,
    "pycharm": {
     "name": "#%% md\n"
    }
   }
  },
  {
   "cell_type": "code",
   "execution_count": 30,
   "outputs": [
    {
     "name": "stderr",
     "output_type": "stream",
     "text": [
      "/Users/adamdabkowski/opt/anaconda3/envs/ML/lib/python3.7/site-packages/sklearn/utils/validation.py:1692: FutureWarning: Feature names only support names that are all strings. Got feature names with dtypes: ['int', 'str']. An error will be raised in 1.2.\n",
      "  FutureWarning,\n",
      "/Users/adamdabkowski/opt/anaconda3/envs/ML/lib/python3.7/site-packages/sklearn/utils/validation.py:1692: FutureWarning: Feature names only support names that are all strings. Got feature names with dtypes: ['int', 'str']. An error will be raised in 1.2.\n",
      "  FutureWarning,\n",
      "/Users/adamdabkowski/opt/anaconda3/envs/ML/lib/python3.7/site-packages/sklearn/utils/validation.py:1692: FutureWarning: Feature names only support names that are all strings. Got feature names with dtypes: ['int', 'str']. An error will be raised in 1.2.\n",
      "  FutureWarning,\n"
     ]
    }
   ],
   "source": [
    "from sklearn.preprocessing import StandardScaler, MinMaxScaler\n",
    "\n",
    "trans = StandardScaler()\n",
    "X_train_t = trans.fit_transform(X_train)\n",
    "X_test_t = trans.transform(X_test)\n",
    "\n",
    "scaler = MinMaxScaler()\n",
    "X_train = pd.DataFrame(scaler.fit_transform(X_train_t), columns=X_train.columns)\n",
    "X_test = pd.DataFrame(scaler.transform(X_test_t), columns=X_train.columns)"
   ],
   "metadata": {
    "collapsed": false,
    "pycharm": {
     "name": "#%%\n"
    }
   }
  },
  {
   "cell_type": "code",
   "execution_count": 31,
   "outputs": [
    {
     "data": {
      "text/plain": "          Age  SibSp     Parch      Fare    1    2    3  female  male    C  \\\n0    0.271174  0.125  0.000000  0.014151  0.0  0.0  1.0     0.0   1.0  0.0   \n1    0.472229  0.125  0.000000  0.139136  1.0  0.0  0.0     1.0   0.0  1.0   \n2    0.321438  0.000  0.000000  0.015469  0.0  0.0  1.0     1.0   0.0  0.0   \n3    0.434531  0.125  0.000000  0.103644  1.0  0.0  0.0     1.0   0.0  0.0   \n4    0.434531  0.000  0.000000  0.015713  0.0  0.0  1.0     0.0   1.0  0.0   \n..        ...    ...       ...       ...  ...  ...  ...     ...   ...  ...   \n886  0.334004  0.000  0.000000  0.025374  0.0  1.0  0.0     0.0   1.0  0.0   \n887  0.233476  0.000  0.000000  0.058556  1.0  0.0  0.0     1.0   0.0  0.0   \n888  0.346569  0.125  0.333333  0.045771  0.0  0.0  1.0     1.0   0.0  0.0   \n889  0.321438  0.000  0.000000  0.058556  1.0  0.0  0.0     0.0   1.0  1.0   \n890  0.396833  0.000  0.000000  0.015127  0.0  0.0  1.0     0.0   1.0  0.0   \n\n       Q    S  Family Members  Not Alone  \n0    0.0  1.0             0.1        1.0  \n1    0.0  0.0             0.1        1.0  \n2    0.0  1.0             0.0        0.0  \n3    0.0  1.0             0.1        1.0  \n4    0.0  1.0             0.0        0.0  \n..   ...  ...             ...        ...  \n886  0.0  1.0             0.0        0.0  \n887  0.0  1.0             0.0        0.0  \n888  0.0  1.0             0.3        1.0  \n889  0.0  0.0             0.0        0.0  \n890  1.0  0.0             0.0        0.0  \n\n[891 rows x 14 columns]",
      "text/html": "<div>\n<style scoped>\n    .dataframe tbody tr th:only-of-type {\n        vertical-align: middle;\n    }\n\n    .dataframe tbody tr th {\n        vertical-align: top;\n    }\n\n    .dataframe thead th {\n        text-align: right;\n    }\n</style>\n<table border=\"1\" class=\"dataframe\">\n  <thead>\n    <tr style=\"text-align: right;\">\n      <th></th>\n      <th>Age</th>\n      <th>SibSp</th>\n      <th>Parch</th>\n      <th>Fare</th>\n      <th>1</th>\n      <th>2</th>\n      <th>3</th>\n      <th>female</th>\n      <th>male</th>\n      <th>C</th>\n      <th>Q</th>\n      <th>S</th>\n      <th>Family Members</th>\n      <th>Not Alone</th>\n    </tr>\n  </thead>\n  <tbody>\n    <tr>\n      <th>0</th>\n      <td>0.271174</td>\n      <td>0.125</td>\n      <td>0.000000</td>\n      <td>0.014151</td>\n      <td>0.0</td>\n      <td>0.0</td>\n      <td>1.0</td>\n      <td>0.0</td>\n      <td>1.0</td>\n      <td>0.0</td>\n      <td>0.0</td>\n      <td>1.0</td>\n      <td>0.1</td>\n      <td>1.0</td>\n    </tr>\n    <tr>\n      <th>1</th>\n      <td>0.472229</td>\n      <td>0.125</td>\n      <td>0.000000</td>\n      <td>0.139136</td>\n      <td>1.0</td>\n      <td>0.0</td>\n      <td>0.0</td>\n      <td>1.0</td>\n      <td>0.0</td>\n      <td>1.0</td>\n      <td>0.0</td>\n      <td>0.0</td>\n      <td>0.1</td>\n      <td>1.0</td>\n    </tr>\n    <tr>\n      <th>2</th>\n      <td>0.321438</td>\n      <td>0.000</td>\n      <td>0.000000</td>\n      <td>0.015469</td>\n      <td>0.0</td>\n      <td>0.0</td>\n      <td>1.0</td>\n      <td>1.0</td>\n      <td>0.0</td>\n      <td>0.0</td>\n      <td>0.0</td>\n      <td>1.0</td>\n      <td>0.0</td>\n      <td>0.0</td>\n    </tr>\n    <tr>\n      <th>3</th>\n      <td>0.434531</td>\n      <td>0.125</td>\n      <td>0.000000</td>\n      <td>0.103644</td>\n      <td>1.0</td>\n      <td>0.0</td>\n      <td>0.0</td>\n      <td>1.0</td>\n      <td>0.0</td>\n      <td>0.0</td>\n      <td>0.0</td>\n      <td>1.0</td>\n      <td>0.1</td>\n      <td>1.0</td>\n    </tr>\n    <tr>\n      <th>4</th>\n      <td>0.434531</td>\n      <td>0.000</td>\n      <td>0.000000</td>\n      <td>0.015713</td>\n      <td>0.0</td>\n      <td>0.0</td>\n      <td>1.0</td>\n      <td>0.0</td>\n      <td>1.0</td>\n      <td>0.0</td>\n      <td>0.0</td>\n      <td>1.0</td>\n      <td>0.0</td>\n      <td>0.0</td>\n    </tr>\n    <tr>\n      <th>...</th>\n      <td>...</td>\n      <td>...</td>\n      <td>...</td>\n      <td>...</td>\n      <td>...</td>\n      <td>...</td>\n      <td>...</td>\n      <td>...</td>\n      <td>...</td>\n      <td>...</td>\n      <td>...</td>\n      <td>...</td>\n      <td>...</td>\n      <td>...</td>\n    </tr>\n    <tr>\n      <th>886</th>\n      <td>0.334004</td>\n      <td>0.000</td>\n      <td>0.000000</td>\n      <td>0.025374</td>\n      <td>0.0</td>\n      <td>1.0</td>\n      <td>0.0</td>\n      <td>0.0</td>\n      <td>1.0</td>\n      <td>0.0</td>\n      <td>0.0</td>\n      <td>1.0</td>\n      <td>0.0</td>\n      <td>0.0</td>\n    </tr>\n    <tr>\n      <th>887</th>\n      <td>0.233476</td>\n      <td>0.000</td>\n      <td>0.000000</td>\n      <td>0.058556</td>\n      <td>1.0</td>\n      <td>0.0</td>\n      <td>0.0</td>\n      <td>1.0</td>\n      <td>0.0</td>\n      <td>0.0</td>\n      <td>0.0</td>\n      <td>1.0</td>\n      <td>0.0</td>\n      <td>0.0</td>\n    </tr>\n    <tr>\n      <th>888</th>\n      <td>0.346569</td>\n      <td>0.125</td>\n      <td>0.333333</td>\n      <td>0.045771</td>\n      <td>0.0</td>\n      <td>0.0</td>\n      <td>1.0</td>\n      <td>1.0</td>\n      <td>0.0</td>\n      <td>0.0</td>\n      <td>0.0</td>\n      <td>1.0</td>\n      <td>0.3</td>\n      <td>1.0</td>\n    </tr>\n    <tr>\n      <th>889</th>\n      <td>0.321438</td>\n      <td>0.000</td>\n      <td>0.000000</td>\n      <td>0.058556</td>\n      <td>1.0</td>\n      <td>0.0</td>\n      <td>0.0</td>\n      <td>0.0</td>\n      <td>1.0</td>\n      <td>1.0</td>\n      <td>0.0</td>\n      <td>0.0</td>\n      <td>0.0</td>\n      <td>0.0</td>\n    </tr>\n    <tr>\n      <th>890</th>\n      <td>0.396833</td>\n      <td>0.000</td>\n      <td>0.000000</td>\n      <td>0.015127</td>\n      <td>0.0</td>\n      <td>0.0</td>\n      <td>1.0</td>\n      <td>0.0</td>\n      <td>1.0</td>\n      <td>0.0</td>\n      <td>1.0</td>\n      <td>0.0</td>\n      <td>0.0</td>\n      <td>0.0</td>\n    </tr>\n  </tbody>\n</table>\n<p>891 rows × 14 columns</p>\n</div>"
     },
     "execution_count": 31,
     "metadata": {},
     "output_type": "execute_result"
    }
   ],
   "source": [
    "X_train"
   ],
   "metadata": {
    "collapsed": false,
    "pycharm": {
     "name": "#%%\n"
    }
   }
  },
  {
   "cell_type": "code",
   "execution_count": 32,
   "outputs": [],
   "source": [
    "X_train.to_csv('./data/x_train_prep.csv', index=False)\n",
    "X_test.to_csv('./data/x_test_prep.csv', index=False)\n",
    "y_train.to_csv('./data/y_train_prep.csv', index=False)\n",
    "y_test.to_csv('./data/y_test_prep.csv', index=False)"
   ],
   "metadata": {
    "collapsed": false,
    "pycharm": {
     "name": "#%%\n"
    }
   }
  },
  {
   "cell_type": "code",
   "execution_count": 33,
   "outputs": [],
   "source": [
    "X_train_pd = X_train\n",
    "X_train = X_train.to_numpy()"
   ],
   "metadata": {
    "collapsed": false,
    "pycharm": {
     "name": "#%%\n"
    }
   }
  },
  {
   "cell_type": "code",
   "execution_count": 34,
   "outputs": [],
   "source": [
    "X_test_pd = X_test\n",
    "X_test = X_test.to_numpy()"
   ],
   "metadata": {
    "collapsed": false,
    "pycharm": {
     "name": "#%%\n"
    }
   }
  },
  {
   "cell_type": "markdown",
   "source": [
    "## 4. Model training"
   ],
   "metadata": {
    "collapsed": false,
    "pycharm": {
     "name": "#%% md\n"
    }
   }
  },
  {
   "cell_type": "code",
   "execution_count": 35,
   "outputs": [],
   "source": [
    "from sklearn.model_selection import cross_val_score, cross_val_predict"
   ],
   "metadata": {
    "collapsed": false,
    "pycharm": {
     "name": "#%%\n"
    }
   }
  },
  {
   "cell_type": "markdown",
   "source": [
    "#### 4.1 Logistic Regression"
   ],
   "metadata": {
    "collapsed": false,
    "pycharm": {
     "name": "#%% md\n"
    }
   }
  },
  {
   "cell_type": "code",
   "execution_count": 36,
   "outputs": [],
   "source": [
    "from sklearn.linear_model import LogisticRegression\n",
    "\n",
    "log_reg = LogisticRegression(random_state=42)"
   ],
   "metadata": {
    "collapsed": false,
    "pycharm": {
     "name": "#%%\n"
    }
   }
  },
  {
   "cell_type": "code",
   "execution_count": 37,
   "outputs": [
    {
     "data": {
      "text/plain": "0.7991274872889336"
     },
     "execution_count": 37,
     "metadata": {},
     "output_type": "execute_result"
    }
   ],
   "source": [
    "y_predicted_log_reg = cross_val_predict(log_reg, X_train, y_train, cv=5)\n",
    "log_reg_scores = cross_val_score(log_reg, X_train, y_train, cv=5)\n",
    "log_reg_scores.mean()"
   ],
   "metadata": {
    "collapsed": false,
    "pycharm": {
     "name": "#%%\n"
    }
   }
  },
  {
   "cell_type": "markdown",
   "source": [
    "#### 4.2 SGD Classifier"
   ],
   "metadata": {
    "collapsed": false,
    "pycharm": {
     "name": "#%% md\n"
    }
   }
  },
  {
   "cell_type": "code",
   "execution_count": 38,
   "outputs": [],
   "source": [
    "from sklearn.linear_model import SGDClassifier\n",
    "\n",
    "sgd_clf = SGDClassifier(random_state=42)"
   ],
   "metadata": {
    "collapsed": false,
    "pycharm": {
     "name": "#%%\n"
    }
   }
  },
  {
   "cell_type": "code",
   "execution_count": 39,
   "outputs": [
    {
     "data": {
      "text/plain": "0.7575607306509322"
     },
     "execution_count": 39,
     "metadata": {},
     "output_type": "execute_result"
    }
   ],
   "source": [
    "y_predicted_sgd_clf = cross_val_predict(sgd_clf, X_train, y_train, cv=5)\n",
    "sgd_clf_scores = cross_val_score(sgd_clf, X_train, y_train, cv=5)\n",
    "sgd_clf_scores.mean()"
   ],
   "metadata": {
    "collapsed": false,
    "pycharm": {
     "name": "#%%\n"
    }
   }
  },
  {
   "cell_type": "markdown",
   "source": [
    "#### 4.3 Random Forrest"
   ],
   "metadata": {
    "collapsed": false,
    "pycharm": {
     "name": "#%% md\n"
    }
   }
  },
  {
   "cell_type": "code",
   "execution_count": 40,
   "outputs": [],
   "source": [
    "from sklearn.ensemble import RandomForestClassifier\n",
    "\n",
    "forest_clf = RandomForestClassifier(n_estimators=250, random_state=42)"
   ],
   "metadata": {
    "collapsed": false,
    "pycharm": {
     "name": "#%%\n"
    }
   }
  },
  {
   "cell_type": "code",
   "execution_count": 41,
   "outputs": [
    {
     "data": {
      "text/plain": "0.8081162513338773"
     },
     "execution_count": 41,
     "metadata": {},
     "output_type": "execute_result"
    }
   ],
   "source": [
    "y_predicted_forest_clf = cross_val_predict(forest_clf, X_train, y_train, cv=5)\n",
    "forest_clf_scores = cross_val_score(forest_clf, X_train, y_train, cv=5)\n",
    "forest_clf_scores.mean()"
   ],
   "metadata": {
    "collapsed": false,
    "pycharm": {
     "name": "#%%\n"
    }
   }
  },
  {
   "cell_type": "markdown",
   "source": [
    "## 5. Performance measures"
   ],
   "metadata": {
    "collapsed": false,
    "pycharm": {
     "name": "#%% md\n"
    }
   }
  },
  {
   "cell_type": "markdown",
   "source": [
    "#### 5.1 Confusion Matrix"
   ],
   "metadata": {
    "collapsed": false,
    "pycharm": {
     "name": "#%% md\n"
    }
   }
  },
  {
   "cell_type": "code",
   "execution_count": 42,
   "outputs": [],
   "source": [
    "from sklearn.metrics import confusion_matrix"
   ],
   "metadata": {
    "collapsed": false,
    "pycharm": {
     "name": "#%%\n"
    }
   }
  },
  {
   "cell_type": "markdown",
   "source": [
    "<b>Logistic Regression</b>"
   ],
   "metadata": {
    "collapsed": false,
    "pycharm": {
     "name": "#%% md\n"
    }
   }
  },
  {
   "cell_type": "code",
   "execution_count": 43,
   "outputs": [
    {
     "data": {
      "text/plain": "array([[474,  75],\n       [104, 238]])"
     },
     "execution_count": 43,
     "metadata": {},
     "output_type": "execute_result"
    }
   ],
   "source": [
    "confusion_matrix(y_train, y_predicted_log_reg)"
   ],
   "metadata": {
    "collapsed": false,
    "pycharm": {
     "name": "#%%\n"
    }
   }
  },
  {
   "cell_type": "markdown",
   "source": [
    "<b>SGD Classifier</b>"
   ],
   "metadata": {
    "collapsed": false,
    "pycharm": {
     "name": "#%% md\n"
    }
   }
  },
  {
   "cell_type": "code",
   "execution_count": 44,
   "outputs": [
    {
     "data": {
      "text/plain": "array([[410, 139],\n       [ 77, 265]])"
     },
     "execution_count": 44,
     "metadata": {},
     "output_type": "execute_result"
    }
   ],
   "source": [
    "confusion_matrix(y_train, y_predicted_sgd_clf)"
   ],
   "metadata": {
    "collapsed": false,
    "pycharm": {
     "name": "#%%\n"
    }
   }
  },
  {
   "cell_type": "markdown",
   "source": [
    "<b>Random Forest</b>"
   ],
   "metadata": {
    "collapsed": false,
    "pycharm": {
     "name": "#%% md\n"
    }
   }
  },
  {
   "cell_type": "code",
   "execution_count": 45,
   "outputs": [
    {
     "data": {
      "text/plain": "array([[468,  81],\n       [ 90, 252]])"
     },
     "execution_count": 45,
     "metadata": {},
     "output_type": "execute_result"
    }
   ],
   "source": [
    "confusion_matrix(y_train, y_predicted_forest_clf)"
   ],
   "metadata": {
    "collapsed": false,
    "pycharm": {
     "name": "#%%\n"
    }
   }
  },
  {
   "cell_type": "markdown",
   "source": [
    "#### 5.2 Precision, Recall, ${F_1}$score"
   ],
   "metadata": {
    "collapsed": false,
    "pycharm": {
     "name": "#%% md\n"
    }
   }
  },
  {
   "cell_type": "code",
   "execution_count": 46,
   "outputs": [],
   "source": [
    "from sklearn.metrics import precision_score, recall_score, f1_score"
   ],
   "metadata": {
    "collapsed": false,
    "pycharm": {
     "name": "#%%\n"
    }
   }
  },
  {
   "cell_type": "markdown",
   "source": [
    "<b>Logistic Regression</b>"
   ],
   "metadata": {
    "collapsed": false,
    "pycharm": {
     "name": "#%% md\n"
    }
   }
  },
  {
   "cell_type": "code",
   "execution_count": 47,
   "outputs": [
    {
     "name": "stdout",
     "output_type": "stream",
     "text": [
      "Precision:  0.7603833865814696\n",
      "Recall:  0.695906432748538\n",
      "F1:  0.7267175572519083\n"
     ]
    }
   ],
   "source": [
    "prec_log_reg = precision_score(y_train, y_predicted_log_reg)\n",
    "rec_log_reg = recall_score(y_train, y_predicted_log_reg)\n",
    "f1_log_reg = f1_score(y_train, y_predicted_log_reg)\n",
    "\n",
    "print(\"Precision: \", prec_log_reg)\n",
    "print(\"Recall: \", rec_log_reg)\n",
    "print(\"F1: \", f1_log_reg)"
   ],
   "metadata": {
    "collapsed": false,
    "pycharm": {
     "name": "#%%\n"
    }
   }
  },
  {
   "cell_type": "markdown",
   "source": [
    "<b>SGD Classifier</b>"
   ],
   "metadata": {
    "collapsed": false,
    "pycharm": {
     "name": "#%% md\n"
    }
   }
  },
  {
   "cell_type": "code",
   "execution_count": 48,
   "outputs": [
    {
     "name": "stdout",
     "output_type": "stream",
     "text": [
      "Precision:  0.655940594059406\n",
      "Recall:  0.7748538011695907\n",
      "F1:  0.710455764075067\n"
     ]
    }
   ],
   "source": [
    "prec_sgd_clf = precision_score(y_train, y_predicted_sgd_clf)\n",
    "rec_sgd_clf = recall_score(y_train, y_predicted_sgd_clf)\n",
    "f1_sgd_clf = f1_score(y_train, y_predicted_sgd_clf)\n",
    "\n",
    "print(\"Precision: \", prec_sgd_clf)\n",
    "print(\"Recall: \", rec_sgd_clf)\n",
    "print(\"F1: \", f1_sgd_clf)"
   ],
   "metadata": {
    "collapsed": false,
    "pycharm": {
     "name": "#%%\n"
    }
   }
  },
  {
   "cell_type": "markdown",
   "source": [
    "<b>Random Forest</b>"
   ],
   "metadata": {
    "collapsed": false,
    "pycharm": {
     "name": "#%% md\n"
    }
   }
  },
  {
   "cell_type": "code",
   "execution_count": 49,
   "outputs": [
    {
     "name": "stdout",
     "output_type": "stream",
     "text": [
      "Precision:  0.7567567567567568\n",
      "Recall:  0.7368421052631579\n",
      "F1:  0.7466666666666667\n"
     ]
    }
   ],
   "source": [
    "prec_forest_clf = precision_score(y_train, y_predicted_forest_clf)\n",
    "rec_forest_clf = recall_score(y_train, y_predicted_forest_clf)\n",
    "f1_forest_clf = f1_score(y_train, y_predicted_forest_clf)\n",
    "\n",
    "print(\"Precision: \", prec_forest_clf)\n",
    "print(\"Recall: \", rec_forest_clf)\n",
    "print(\"F1: \", f1_forest_clf)"
   ],
   "metadata": {
    "collapsed": false,
    "pycharm": {
     "name": "#%%\n"
    }
   }
  },
  {
   "cell_type": "markdown",
   "source": [
    "#### 5.3 Precision - recall curve"
   ],
   "metadata": {
    "collapsed": false,
    "pycharm": {
     "name": "#%% md\n"
    }
   }
  },
  {
   "cell_type": "code",
   "execution_count": 50,
   "outputs": [],
   "source": [
    "from sklearn.metrics import precision_recall_curve"
   ],
   "metadata": {
    "collapsed": false,
    "pycharm": {
     "name": "#%%\n"
    }
   }
  },
  {
   "cell_type": "markdown",
   "source": [
    "<b>Logistic Regression</b>"
   ],
   "metadata": {
    "collapsed": false,
    "pycharm": {
     "name": "#%% md\n"
    }
   }
  },
  {
   "cell_type": "code",
   "execution_count": 51,
   "outputs": [
    {
     "data": {
      "text/plain": "<Figure size 640x480 with 1 Axes>",
      "image/png": "[encoded data removed]"
     },
     "metadata": {},
     "output_type": "display_data"
    },
    {
     "data": {
      "text/plain": "<Figure size 800x400 with 0 Axes>"
     },
     "metadata": {},
     "output_type": "display_data"
    }
   ],
   "source": [
    "y_scores_log_reg = cross_val_predict(log_reg, X_train, y_train, cv=5, method=\"decision_function\")\n",
    "precisions, recalls, thresholds = precision_recall_curve(y_train, y_scores_log_reg)\n",
    "plot_precision_recall_vs_threshold(precisions, recalls, thresholds)"
   ],
   "metadata": {
    "collapsed": false,
    "pycharm": {
     "name": "#%%\n"
    }
   }
  },
  {
   "cell_type": "markdown",
   "source": [
    "We can shift our threshold to find optimal ${F_1}$score"
   ],
   "metadata": {
    "collapsed": false,
    "pycharm": {
     "name": "#%% md\n"
    }
   }
  },
  {
   "cell_type": "code",
   "execution_count": 52,
   "outputs": [
    {
     "name": "stdout",
     "output_type": "stream",
     "text": [
      "Precision:  0.6690997566909975\n",
      "Recall:  0.804093567251462\n",
      "F1:  0.7304116865869854\n"
     ]
    }
   ],
   "source": [
    "threshold = -0.7\n",
    "y_predicted_log_reg_mod = (y_scores_log_reg > threshold)\n",
    "\n",
    "prec = precision_score(y_train, y_predicted_log_reg_mod)\n",
    "rec = recall_score(y_train, y_predicted_log_reg_mod)\n",
    "f1 = f1_score(y_train, y_predicted_log_reg_mod)\n",
    "\n",
    "print(\"Precision: \", prec)\n",
    "print(\"Recall: \", rec)\n",
    "print(\"F1: \", f1)"
   ],
   "metadata": {
    "collapsed": false,
    "pycharm": {
     "name": "#%%\n"
    }
   }
  },
  {
   "cell_type": "markdown",
   "source": [
    "<b>SGD Classifier</b>"
   ],
   "metadata": {
    "collapsed": false,
    "pycharm": {
     "name": "#%% md\n"
    }
   }
  },
  {
   "cell_type": "code",
   "execution_count": 53,
   "outputs": [
    {
     "data": {
      "text/plain": "<Figure size 640x480 with 1 Axes>",
      "image/png": "[encoded data removed]"
     },
     "metadata": {},
     "output_type": "display_data"
    },
    {
     "data": {
      "text/plain": "<Figure size 800x400 with 0 Axes>"
     },
     "metadata": {},
     "output_type": "display_data"
    }
   ],
   "source": [
    "y_scores_sgd_clf = cross_val_predict(sgd_clf, X_train, y_train, cv=5, method=\"decision_function\")\n",
    "precisions, recalls, thresholds = precision_recall_curve(y_train, y_scores_sgd_clf)\n",
    "plot_precision_recall_vs_threshold(precisions, recalls, thresholds)"
   ],
   "metadata": {
    "collapsed": false,
    "pycharm": {
     "name": "#%%\n"
    }
   }
  },
  {
   "cell_type": "markdown",
   "source": [
    "#### 5.4 ROC curve"
   ],
   "metadata": {
    "collapsed": false,
    "pycharm": {
     "name": "#%% md\n"
    }
   }
  },
  {
   "cell_type": "code",
   "execution_count": 54,
   "outputs": [],
   "source": [
    "from sklearn.metrics import roc_curve, roc_auc_score"
   ],
   "metadata": {
    "collapsed": false,
    "pycharm": {
     "name": "#%%\n"
    }
   }
  },
  {
   "cell_type": "markdown",
   "source": [
    "<b>Logistic Regression</b>"
   ],
   "metadata": {
    "collapsed": false,
    "pycharm": {
     "name": "#%% md\n"
    }
   }
  },
  {
   "cell_type": "code",
   "execution_count": 55,
   "outputs": [
    {
     "data": {
      "text/plain": "<Figure size 640x480 with 1 Axes>",
      "image/png": "[encoded data removed]"
     },
     "metadata": {},
     "output_type": "display_data"
    },
    {
     "data": {
      "text/plain": "<Figure size 800x400 with 0 Axes>"
     },
     "metadata": {},
     "output_type": "display_data"
    },
    {
     "name": "stdout",
     "output_type": "stream",
     "text": [
      "ROC AUC score:  0.8473300738184258\n"
     ]
    }
   ],
   "source": [
    "fpr_log_reg, tpr_log_reg, thresholds = roc_curve(y_train, y_scores_log_reg)\n",
    "plot_roc_curve(fpr_log_reg, tpr_log_reg)\n",
    "print(\"ROC AUC score: \", roc_auc_score(y_train, y_scores_log_reg))"
   ],
   "metadata": {
    "collapsed": false,
    "pycharm": {
     "name": "#%%\n"
    }
   }
  },
  {
   "cell_type": "markdown",
   "source": [
    "<b>SGD Classifier</b>"
   ],
   "metadata": {
    "collapsed": false,
    "pycharm": {
     "name": "#%% md\n"
    }
   }
  },
  {
   "cell_type": "code",
   "execution_count": 56,
   "outputs": [
    {
     "data": {
      "text/plain": "<Figure size 640x480 with 1 Axes>",
      "image/png": "[encoded data removed]"
     },
     "metadata": {},
     "output_type": "display_data"
    },
    {
     "data": {
      "text/plain": "<Figure size 800x400 with 0 Axes>"
     },
     "metadata": {},
     "output_type": "display_data"
    },
    {
     "name": "stdout",
     "output_type": "stream",
     "text": [
      "ROC AUC score:  0.8186974722781453\n"
     ]
    }
   ],
   "source": [
    "fpr_sgd_clf, tpr_sgd_clf, thresholds = roc_curve(y_train, y_scores_sgd_clf)\n",
    "plot_roc_curve(fpr_sgd_clf, tpr_sgd_clf)\n",
    "print(\"ROC AUC score: \", roc_auc_score(y_train, y_scores_sgd_clf))"
   ],
   "metadata": {
    "collapsed": false,
    "pycharm": {
     "name": "#%%\n"
    }
   }
  },
  {
   "cell_type": "markdown",
   "source": [
    "<b>Random Forest</b>"
   ],
   "metadata": {
    "collapsed": false,
    "pycharm": {
     "name": "#%% md\n"
    }
   }
  },
  {
   "cell_type": "code",
   "execution_count": 57,
   "outputs": [
    {
     "data": {
      "text/plain": "<Figure size 640x480 with 1 Axes>",
      "image/png": "[encoded data removed]"
     },
     "metadata": {},
     "output_type": "display_data"
    },
    {
     "data": {
      "text/plain": "<Figure size 800x400 with 0 Axes>"
     },
     "metadata": {},
     "output_type": "display_data"
    },
    {
     "name": "stdout",
     "output_type": "stream",
     "text": [
      "ROC AUC score:  0.852554884478957\n"
     ]
    }
   ],
   "source": [
    "y_probas_forest = cross_val_predict(forest_clf, X_train, y_train, cv=5, method=\"predict_proba\")\n",
    "y_scores_forest_clf = y_probas_forest[:, 1]\n",
    "\n",
    "fpr_forest_clf, tpr_forest_clf, thresholds = roc_curve(y_train, y_scores_forest_clf)\n",
    "plot_roc_curve(fpr_forest_clf, tpr_forest_clf)\n",
    "print(\"ROC AUC score: \", roc_auc_score(y_train, y_scores_forest_clf))"
   ],
   "metadata": {
    "collapsed": false,
    "pycharm": {
     "name": "#%%\n"
    }
   }
  },
  {
   "cell_type": "code",
   "execution_count": 58,
   "outputs": [
    {
     "data": {
      "text/plain": "<Figure size 640x480 with 1 Axes>",
      "image/png": "[encoded data removed]"
     },
     "metadata": {},
     "output_type": "display_data"
    },
    {
     "data": {
      "text/plain": "<Figure size 800x400 with 0 Axes>"
     },
     "metadata": {},
     "output_type": "display_data"
    }
   ],
   "source": [
    "plot_roc_curves(fpr_log_reg, tpr_log_reg, fpr_sgd_clf, tpr_sgd_clf, fpr_forest_clf, tpr_forest_clf, \"Logistic Regression\", \"SGD Classifier\", \"Random Forest\")"
   ],
   "metadata": {
    "collapsed": false,
    "pycharm": {
     "name": "#%%\n"
    }
   }
  },
  {
   "cell_type": "code",
   "execution_count": 59,
   "outputs": [
    {
     "data": {
      "text/plain": "(0.7267175572519083, 0.710455764075067, 0.7466666666666667)"
     },
     "execution_count": 59,
     "metadata": {},
     "output_type": "execute_result"
    }
   ],
   "source": [
    "f1_log_reg, f1_sgd_clf, f1_forest_clf"
   ],
   "metadata": {
    "collapsed": false,
    "pycharm": {
     "name": "#%%\n"
    }
   }
  },
  {
   "cell_type": "markdown",
   "source": [
    "## 6. Model improving"
   ],
   "metadata": {
    "collapsed": false,
    "pycharm": {
     "name": "#%% md\n"
    }
   }
  },
  {
   "cell_type": "markdown",
   "source": [
    "In further considerations, the SVM classifier was omitted due to the worst result"
   ],
   "metadata": {
    "collapsed": false,
    "pycharm": {
     "name": "#%% md\n"
    }
   }
  },
  {
   "cell_type": "markdown",
   "source": [
    "#### 6.1 Logistic Regression"
   ],
   "metadata": {
    "collapsed": false,
    "pycharm": {
     "name": "#%% md\n"
    }
   }
  },
  {
   "cell_type": "code",
   "execution_count": 37,
   "outputs": [
    {
     "data": {
      "text/plain": "GridSearchCV(cv=3,\n             estimator=LogisticRegression(max_iter=100000000.0,\n                                          penalty='elasticnet', solver='saga'),\n             param_grid=[{'C': array([1.e-03, 1.e-02, 1.e-01, 1.e+00, 1.e+01, 1.e+02, 1.e+03]),\n                          'l1_ratio': array([1.e-05, 1.e-04, 1.e-03, 1.e-02, 1.e-01, 1.e+00])}],\n             scoring='accuracy')"
     },
     "execution_count": 37,
     "metadata": {},
     "output_type": "execute_result"
    }
   ],
   "source": [
    "from sklearn.model_selection import GridSearchCV\n",
    "\n",
    "param_grid_log_reg = [\n",
    "    {\"C\":np.logspace(-3,3,7), \"l1_ratio\":np.logspace(-5, 0, 6)}\n",
    "]\n",
    "\n",
    "log_reg = LogisticRegression(solver='saga', penalty=\"elasticnet\", max_iter=1e8)\n",
    "log_reg_grid = GridSearchCV(log_reg, param_grid_log_reg, cv=3, scoring='accuracy')\n",
    "log_reg_grid.fit(X_train, y_train)"
   ],
   "metadata": {
    "collapsed": false,
    "pycharm": {
     "name": "#%%\n"
    }
   }
  },
  {
   "cell_type": "code",
   "execution_count": 38,
   "outputs": [
    {
     "name": "stdout",
     "output_type": "stream",
     "text": [
      "0.6161616161616161 {'C': 0.001, 'l1_ratio': 1e-05}\n",
      "0.6161616161616161 {'C': 0.001, 'l1_ratio': 0.0001}\n",
      "0.6161616161616161 {'C': 0.001, 'l1_ratio': 0.001}\n",
      "0.6161616161616161 {'C': 0.001, 'l1_ratio': 0.01}\n",
      "0.6161616161616161 {'C': 0.001, 'l1_ratio': 0.1}\n",
      "0.6161616161616161 {'C': 0.001, 'l1_ratio': 1.0}\n",
      "0.7912457912457912 {'C': 0.01, 'l1_ratio': 1e-05}\n",
      "0.7912457912457912 {'C': 0.01, 'l1_ratio': 0.0001}\n",
      "0.7912457912457912 {'C': 0.01, 'l1_ratio': 0.001}\n",
      "0.7912457912457912 {'C': 0.01, 'l1_ratio': 0.01}\n",
      "0.7867564534231201 {'C': 0.01, 'l1_ratio': 0.1}\n",
      "0.6161616161616161 {'C': 0.01, 'l1_ratio': 1.0}\n",
      "0.7811447811447811 {'C': 0.1, 'l1_ratio': 1e-05}\n",
      "0.7811447811447811 {'C': 0.1, 'l1_ratio': 0.0001}\n",
      "0.7811447811447811 {'C': 0.1, 'l1_ratio': 0.001}\n",
      "0.7811447811447811 {'C': 0.1, 'l1_ratio': 0.01}\n",
      "0.7811447811447811 {'C': 0.1, 'l1_ratio': 0.1}\n",
      "0.7867564534231201 {'C': 0.1, 'l1_ratio': 1.0}\n",
      "0.787878787878788 {'C': 1.0, 'l1_ratio': 1e-05}\n",
      "0.787878787878788 {'C': 1.0, 'l1_ratio': 0.0001}\n",
      "0.787878787878788 {'C': 1.0, 'l1_ratio': 0.001}\n",
      "0.787878787878788 {'C': 1.0, 'l1_ratio': 0.01}\n",
      "0.787878787878788 {'C': 1.0, 'l1_ratio': 0.1}\n",
      "0.787878787878788 {'C': 1.0, 'l1_ratio': 1.0}\n",
      "0.7912457912457912 {'C': 10.0, 'l1_ratio': 1e-05}\n",
      "0.7912457912457912 {'C': 10.0, 'l1_ratio': 0.0001}\n",
      "0.7912457912457912 {'C': 10.0, 'l1_ratio': 0.001}\n",
      "0.7912457912457912 {'C': 10.0, 'l1_ratio': 0.01}\n",
      "0.7923681257014591 {'C': 10.0, 'l1_ratio': 0.1}\n",
      "0.7923681257014591 {'C': 10.0, 'l1_ratio': 1.0}\n",
      "0.7934904601571269 {'C': 100.0, 'l1_ratio': 1e-05}\n",
      "0.7934904601571269 {'C': 100.0, 'l1_ratio': 0.0001}\n",
      "0.7934904601571269 {'C': 100.0, 'l1_ratio': 0.001}\n",
      "0.7934904601571269 {'C': 100.0, 'l1_ratio': 0.01}\n",
      "0.7934904601571269 {'C': 100.0, 'l1_ratio': 0.1}\n",
      "0.7934904601571269 {'C': 100.0, 'l1_ratio': 1.0}\n",
      "0.7934904601571269 {'C': 1000.0, 'l1_ratio': 1e-05}\n",
      "0.7934904601571269 {'C': 1000.0, 'l1_ratio': 0.0001}\n",
      "0.7934904601571269 {'C': 1000.0, 'l1_ratio': 0.001}\n",
      "0.7934904601571269 {'C': 1000.0, 'l1_ratio': 0.01}\n",
      "0.7934904601571269 {'C': 1000.0, 'l1_ratio': 0.1}\n",
      "0.7934904601571269 {'C': 1000.0, 'l1_ratio': 1.0}\n"
     ]
    }
   ],
   "source": [
    "cvres = log_reg_grid.cv_results_\n",
    "for mean_score, params in zip(cvres[\"mean_test_score\"], cvres[\"params\"]):\n",
    "    print(mean_score, params)"
   ],
   "metadata": {
    "collapsed": false,
    "pycharm": {
     "name": "#%%\n"
    }
   }
  },
  {
   "cell_type": "code",
   "execution_count": 39,
   "outputs": [
    {
     "data": {
      "text/plain": "{'C': 100.0, 'l1_ratio': 1e-05}"
     },
     "execution_count": 39,
     "metadata": {},
     "output_type": "execute_result"
    }
   ],
   "source": [
    "log_reg_grid.best_params_"
   ],
   "metadata": {
    "collapsed": false,
    "pycharm": {
     "name": "#%%\n"
    }
   }
  },
  {
   "cell_type": "code",
   "execution_count": 41,
   "outputs": [],
   "source": [
    "best_log_reg = log_reg_grid.best_estimator_"
   ],
   "metadata": {
    "collapsed": false,
    "pycharm": {
     "name": "#%%\n"
    }
   }
  },
  {
   "cell_type": "markdown",
   "source": [
    "#### 6.2 Random Forest"
   ],
   "metadata": {
    "collapsed": false,
    "pycharm": {
     "name": "#%% md\n"
    }
   }
  },
  {
   "cell_type": "code",
   "execution_count": 65,
   "outputs": [
    {
     "data": {
      "text/plain": "GridSearchCV(cv=3, estimator=RandomForestClassifier(random_state=42),\n             param_grid=[{'max_depth': [5, 6, 7],\n                          'max_features': [9, 10, 11, 12],\n                          'min_samples_split': [4, 5],\n                          'n_estimators': array([ 50, 100, 150, 200])}],\n             scoring='accuracy')"
     },
     "execution_count": 65,
     "metadata": {},
     "output_type": "execute_result"
    }
   ],
   "source": [
    "from sklearn.model_selection import GridSearchCV\n",
    "\n",
    "param_grid_forest_clf = [\n",
    "    {\"n_estimators\": np.array(range(50, 201, 50)), \"max_depth\": [5, 6, 7], \"max_features\":[9, 10, 11, 12], \"min_samples_split\":[4, 5]}\n",
    "]\n",
    "\n",
    "forest_clf = RandomForestClassifier(random_state=42)\n",
    "forest_clf_grid = GridSearchCV(forest_clf, param_grid_forest_clf, cv=3, scoring='accuracy')\n",
    "forest_clf_grid.fit(X_train, y_train)"
   ],
   "metadata": {
    "collapsed": false,
    "pycharm": {
     "name": "#%%\n"
    }
   }
  },
  {
   "cell_type": "code",
   "execution_count": 66,
   "outputs": [
    {
     "name": "stdout",
     "output_type": "stream",
     "text": [
      "0.8215488215488215 {'max_depth': 5, 'max_features': 9, 'min_samples_split': 4, 'n_estimators': 50}\n",
      "0.8215488215488215 {'max_depth': 5, 'max_features': 9, 'min_samples_split': 4, 'n_estimators': 100}\n",
      "0.8226711560044894 {'max_depth': 5, 'max_features': 9, 'min_samples_split': 4, 'n_estimators': 150}\n",
      "0.8215488215488215 {'max_depth': 5, 'max_features': 9, 'min_samples_split': 4, 'n_estimators': 200}\n",
      "0.8215488215488215 {'max_depth': 5, 'max_features': 9, 'min_samples_split': 5, 'n_estimators': 50}\n",
      "0.8237934904601572 {'max_depth': 5, 'max_features': 9, 'min_samples_split': 5, 'n_estimators': 100}\n",
      "0.8204264870931538 {'max_depth': 5, 'max_features': 9, 'min_samples_split': 5, 'n_estimators': 150}\n",
      "0.8237934904601572 {'max_depth': 5, 'max_features': 9, 'min_samples_split': 5, 'n_estimators': 200}\n",
      "0.8260381593714928 {'max_depth': 5, 'max_features': 10, 'min_samples_split': 4, 'n_estimators': 50}\n",
      "0.8226711560044894 {'max_depth': 5, 'max_features': 10, 'min_samples_split': 4, 'n_estimators': 100}\n",
      "0.8249158249158249 {'max_depth': 5, 'max_features': 10, 'min_samples_split': 4, 'n_estimators': 150}\n",
      "0.8226711560044894 {'max_depth': 5, 'max_features': 10, 'min_samples_split': 4, 'n_estimators': 200}\n",
      "0.8226711560044894 {'max_depth': 5, 'max_features': 10, 'min_samples_split': 5, 'n_estimators': 50}\n",
      "0.8282828282828283 {'max_depth': 5, 'max_features': 10, 'min_samples_split': 5, 'n_estimators': 100}\n",
      "0.8226711560044894 {'max_depth': 5, 'max_features': 10, 'min_samples_split': 5, 'n_estimators': 150}\n",
      "0.8237934904601572 {'max_depth': 5, 'max_features': 10, 'min_samples_split': 5, 'n_estimators': 200}\n",
      "0.8226711560044894 {'max_depth': 5, 'max_features': 11, 'min_samples_split': 4, 'n_estimators': 50}\n",
      "0.8215488215488215 {'max_depth': 5, 'max_features': 11, 'min_samples_split': 4, 'n_estimators': 100}\n",
      "0.8215488215488215 {'max_depth': 5, 'max_features': 11, 'min_samples_split': 4, 'n_estimators': 150}\n",
      "0.8215488215488215 {'max_depth': 5, 'max_features': 11, 'min_samples_split': 4, 'n_estimators': 200}\n",
      "0.8204264870931537 {'max_depth': 5, 'max_features': 11, 'min_samples_split': 5, 'n_estimators': 50}\n",
      "0.8226711560044894 {'max_depth': 5, 'max_features': 11, 'min_samples_split': 5, 'n_estimators': 100}\n",
      "0.8237934904601572 {'max_depth': 5, 'max_features': 11, 'min_samples_split': 5, 'n_estimators': 150}\n",
      "0.8237934904601572 {'max_depth': 5, 'max_features': 11, 'min_samples_split': 5, 'n_estimators': 200}\n",
      "0.8249158249158249 {'max_depth': 5, 'max_features': 12, 'min_samples_split': 4, 'n_estimators': 50}\n",
      "0.8204264870931537 {'max_depth': 5, 'max_features': 12, 'min_samples_split': 4, 'n_estimators': 100}\n",
      "0.8249158249158249 {'max_depth': 5, 'max_features': 12, 'min_samples_split': 4, 'n_estimators': 150}\n",
      "0.8260381593714928 {'max_depth': 5, 'max_features': 12, 'min_samples_split': 4, 'n_estimators': 200}\n",
      "0.8226711560044894 {'max_depth': 5, 'max_features': 12, 'min_samples_split': 5, 'n_estimators': 50}\n",
      "0.8226711560044894 {'max_depth': 5, 'max_features': 12, 'min_samples_split': 5, 'n_estimators': 100}\n",
      "0.8237934904601572 {'max_depth': 5, 'max_features': 12, 'min_samples_split': 5, 'n_estimators': 150}\n",
      "0.8249158249158249 {'max_depth': 5, 'max_features': 12, 'min_samples_split': 5, 'n_estimators': 200}\n",
      "0.8226711560044894 {'max_depth': 6, 'max_features': 9, 'min_samples_split': 4, 'n_estimators': 50}\n",
      "0.8181818181818182 {'max_depth': 6, 'max_features': 9, 'min_samples_split': 4, 'n_estimators': 100}\n",
      "0.8181818181818182 {'max_depth': 6, 'max_features': 9, 'min_samples_split': 4, 'n_estimators': 150}\n",
      "0.8181818181818182 {'max_depth': 6, 'max_features': 9, 'min_samples_split': 4, 'n_estimators': 200}\n",
      "0.8249158249158249 {'max_depth': 6, 'max_features': 9, 'min_samples_split': 5, 'n_estimators': 50}\n",
      "0.8170594837261506 {'max_depth': 6, 'max_features': 9, 'min_samples_split': 5, 'n_estimators': 100}\n",
      "0.8226711560044894 {'max_depth': 6, 'max_features': 9, 'min_samples_split': 5, 'n_estimators': 150}\n",
      "0.8215488215488217 {'max_depth': 6, 'max_features': 9, 'min_samples_split': 5, 'n_estimators': 200}\n",
      "0.8316498316498316 {'max_depth': 6, 'max_features': 10, 'min_samples_split': 4, 'n_estimators': 50}\n",
      "0.8249158249158249 {'max_depth': 6, 'max_features': 10, 'min_samples_split': 4, 'n_estimators': 100}\n",
      "0.8226711560044894 {'max_depth': 6, 'max_features': 10, 'min_samples_split': 4, 'n_estimators': 150}\n",
      "0.8249158249158249 {'max_depth': 6, 'max_features': 10, 'min_samples_split': 4, 'n_estimators': 200}\n",
      "0.8282828282828283 {'max_depth': 6, 'max_features': 10, 'min_samples_split': 5, 'n_estimators': 50}\n",
      "0.8249158249158249 {'max_depth': 6, 'max_features': 10, 'min_samples_split': 5, 'n_estimators': 100}\n",
      "0.8249158249158249 {'max_depth': 6, 'max_features': 10, 'min_samples_split': 5, 'n_estimators': 150}\n",
      "0.8271604938271606 {'max_depth': 6, 'max_features': 10, 'min_samples_split': 5, 'n_estimators': 200}\n",
      "0.8237934904601572 {'max_depth': 6, 'max_features': 11, 'min_samples_split': 4, 'n_estimators': 50}\n",
      "0.8249158249158249 {'max_depth': 6, 'max_features': 11, 'min_samples_split': 4, 'n_estimators': 100}\n",
      "0.8282828282828283 {'max_depth': 6, 'max_features': 11, 'min_samples_split': 4, 'n_estimators': 150}\n",
      "0.829405162738496 {'max_depth': 6, 'max_features': 11, 'min_samples_split': 4, 'n_estimators': 200}\n",
      "0.8215488215488215 {'max_depth': 6, 'max_features': 11, 'min_samples_split': 5, 'n_estimators': 50}\n",
      "0.8226711560044894 {'max_depth': 6, 'max_features': 11, 'min_samples_split': 5, 'n_estimators': 100}\n",
      "0.8282828282828283 {'max_depth': 6, 'max_features': 11, 'min_samples_split': 5, 'n_estimators': 150}\n",
      "0.8316498316498316 {'max_depth': 6, 'max_features': 11, 'min_samples_split': 5, 'n_estimators': 200}\n",
      "0.8249158249158249 {'max_depth': 6, 'max_features': 12, 'min_samples_split': 4, 'n_estimators': 50}\n",
      "0.8294051627384961 {'max_depth': 6, 'max_features': 12, 'min_samples_split': 4, 'n_estimators': 100}\n",
      "0.8327721661054994 {'max_depth': 6, 'max_features': 12, 'min_samples_split': 4, 'n_estimators': 150}\n",
      "0.8316498316498316 {'max_depth': 6, 'max_features': 12, 'min_samples_split': 4, 'n_estimators': 200}\n",
      "0.8249158249158249 {'max_depth': 6, 'max_features': 12, 'min_samples_split': 5, 'n_estimators': 50}\n",
      "0.8282828282828283 {'max_depth': 6, 'max_features': 12, 'min_samples_split': 5, 'n_estimators': 100}\n",
      "0.8305274971941637 {'max_depth': 6, 'max_features': 12, 'min_samples_split': 5, 'n_estimators': 150}\n",
      "0.8294051627384961 {'max_depth': 6, 'max_features': 12, 'min_samples_split': 5, 'n_estimators': 200}\n",
      "0.8170594837261503 {'max_depth': 7, 'max_features': 9, 'min_samples_split': 4, 'n_estimators': 50}\n",
      "0.8215488215488215 {'max_depth': 7, 'max_features': 9, 'min_samples_split': 4, 'n_estimators': 100}\n",
      "0.8215488215488215 {'max_depth': 7, 'max_features': 9, 'min_samples_split': 4, 'n_estimators': 150}\n",
      "0.8204264870931538 {'max_depth': 7, 'max_features': 9, 'min_samples_split': 4, 'n_estimators': 200}\n",
      "0.8249158249158249 {'max_depth': 7, 'max_features': 9, 'min_samples_split': 5, 'n_estimators': 50}\n",
      "0.8249158249158249 {'max_depth': 7, 'max_features': 9, 'min_samples_split': 5, 'n_estimators': 100}\n",
      "0.8282828282828283 {'max_depth': 7, 'max_features': 9, 'min_samples_split': 5, 'n_estimators': 150}\n",
      "0.8215488215488215 {'max_depth': 7, 'max_features': 9, 'min_samples_split': 5, 'n_estimators': 200}\n",
      "0.8226711560044894 {'max_depth': 7, 'max_features': 10, 'min_samples_split': 4, 'n_estimators': 50}\n",
      "0.8260381593714926 {'max_depth': 7, 'max_features': 10, 'min_samples_split': 4, 'n_estimators': 100}\n",
      "0.8271604938271605 {'max_depth': 7, 'max_features': 10, 'min_samples_split': 4, 'n_estimators': 150}\n",
      "0.8249158249158249 {'max_depth': 7, 'max_features': 10, 'min_samples_split': 4, 'n_estimators': 200}\n",
      "0.8136924803591471 {'max_depth': 7, 'max_features': 10, 'min_samples_split': 5, 'n_estimators': 50}\n",
      "0.8226711560044894 {'max_depth': 7, 'max_features': 10, 'min_samples_split': 5, 'n_estimators': 100}\n",
      "0.8249158249158249 {'max_depth': 7, 'max_features': 10, 'min_samples_split': 5, 'n_estimators': 150}\n",
      "0.8215488215488217 {'max_depth': 7, 'max_features': 10, 'min_samples_split': 5, 'n_estimators': 200}\n",
      "0.829405162738496 {'max_depth': 7, 'max_features': 11, 'min_samples_split': 4, 'n_estimators': 50}\n",
      "0.829405162738496 {'max_depth': 7, 'max_features': 11, 'min_samples_split': 4, 'n_estimators': 100}\n",
      "0.8294051627384961 {'max_depth': 7, 'max_features': 11, 'min_samples_split': 4, 'n_estimators': 150}\n",
      "0.8294051627384961 {'max_depth': 7, 'max_features': 11, 'min_samples_split': 4, 'n_estimators': 200}\n",
      "0.8338945005611672 {'max_depth': 7, 'max_features': 11, 'min_samples_split': 5, 'n_estimators': 50}\n",
      "0.8282828282828283 {'max_depth': 7, 'max_features': 11, 'min_samples_split': 5, 'n_estimators': 100}\n",
      "0.8260381593714928 {'max_depth': 7, 'max_features': 11, 'min_samples_split': 5, 'n_estimators': 150}\n",
      "0.8260381593714928 {'max_depth': 7, 'max_features': 11, 'min_samples_split': 5, 'n_estimators': 200}\n",
      "0.8226711560044894 {'max_depth': 7, 'max_features': 12, 'min_samples_split': 4, 'n_estimators': 50}\n",
      "0.8260381593714928 {'max_depth': 7, 'max_features': 12, 'min_samples_split': 4, 'n_estimators': 100}\n",
      "0.8271604938271606 {'max_depth': 7, 'max_features': 12, 'min_samples_split': 4, 'n_estimators': 150}\n",
      "0.8294051627384961 {'max_depth': 7, 'max_features': 12, 'min_samples_split': 4, 'n_estimators': 200}\n",
      "0.8237934904601572 {'max_depth': 7, 'max_features': 12, 'min_samples_split': 5, 'n_estimators': 50}\n",
      "0.8260381593714928 {'max_depth': 7, 'max_features': 12, 'min_samples_split': 5, 'n_estimators': 100}\n",
      "0.8249158249158249 {'max_depth': 7, 'max_features': 12, 'min_samples_split': 5, 'n_estimators': 150}\n",
      "0.8237934904601572 {'max_depth': 7, 'max_features': 12, 'min_samples_split': 5, 'n_estimators': 200}\n"
     ]
    }
   ],
   "source": [
    "cvres = forest_clf_grid.cv_results_\n",
    "for mean_score, params in zip(cvres[\"mean_test_score\"], cvres[\"params\"]):\n",
    "    print(mean_score, params)"
   ],
   "metadata": {
    "collapsed": false,
    "pycharm": {
     "name": "#%%\n"
    }
   }
  },
  {
   "cell_type": "code",
   "execution_count": 67,
   "outputs": [
    {
     "data": {
      "text/plain": "{'max_depth': 7,\n 'max_features': 11,\n 'min_samples_split': 5,\n 'n_estimators': 50}"
     },
     "execution_count": 67,
     "metadata": {},
     "output_type": "execute_result"
    }
   ],
   "source": [
    "forest_clf_grid.best_params_"
   ],
   "metadata": {
    "collapsed": false,
    "pycharm": {
     "name": "#%%\n"
    }
   }
  },
  {
   "cell_type": "code",
   "execution_count": 68,
   "outputs": [],
   "source": [
    "best_forest_clf = forest_clf_grid.best_estimator_"
   ],
   "metadata": {
    "collapsed": false,
    "pycharm": {
     "name": "#%%\n"
    }
   }
  },
  {
   "cell_type": "markdown",
   "source": [
    "## 7. Prediction on the test set"
   ],
   "metadata": {
    "collapsed": false,
    "pycharm": {
     "name": "#%% md\n"
    }
   }
  },
  {
   "cell_type": "code",
   "execution_count": 43,
   "outputs": [],
   "source": [
    "from sklearn.metrics import accuracy_score"
   ],
   "metadata": {
    "collapsed": false,
    "pycharm": {
     "name": "#%%\n"
    }
   }
  },
  {
   "cell_type": "markdown",
   "source": [
    "#### 7.1 Logistic Regression"
   ],
   "metadata": {
    "collapsed": false,
    "pycharm": {
     "name": "#%% md\n"
    }
   }
  },
  {
   "cell_type": "code",
   "execution_count": 71,
   "outputs": [],
   "source": [
    "y_pred_log_reg = best_log_reg.predict(X_test)"
   ],
   "metadata": {
    "collapsed": false,
    "pycharm": {
     "name": "#%%\n"
    }
   }
  },
  {
   "cell_type": "code",
   "execution_count": 72,
   "outputs": [
    {
     "data": {
      "text/plain": "0.7631578947368421"
     },
     "execution_count": 72,
     "metadata": {},
     "output_type": "execute_result"
    }
   ],
   "source": [
    "accuracy_score(y_test, y_pred_log_reg)"
   ],
   "metadata": {
    "collapsed": false,
    "pycharm": {
     "name": "#%%\n"
    }
   }
  },
  {
   "cell_type": "markdown",
   "source": [
    "#### 7.2 Random Forest"
   ],
   "metadata": {
    "collapsed": false,
    "pycharm": {
     "name": "#%% md\n"
    }
   }
  },
  {
   "cell_type": "code",
   "execution_count": 73,
   "outputs": [],
   "source": [
    "y_pred_forest_clf = best_forest_clf.predict(X_test)"
   ],
   "metadata": {
    "collapsed": false,
    "pycharm": {
     "name": "#%%\n"
    }
   }
  },
  {
   "cell_type": "code",
   "execution_count": 74,
   "outputs": [
    {
     "data": {
      "text/plain": "0.7727272727272727"
     },
     "execution_count": 74,
     "metadata": {},
     "output_type": "execute_result"
    }
   ],
   "source": [
    "accuracy_score(y_test, y_pred_forest_clf)"
   ],
   "metadata": {
    "collapsed": false,
    "pycharm": {
     "name": "#%%\n"
    }
   }
  },
  {
   "cell_type": "markdown",
   "source": [
    "As you can easily see, the random forest classifier achieves better results. However, will the accuracy achieved also be better than that achieved by a neural network?"
   ],
   "metadata": {
    "collapsed": false,
    "pycharm": {
     "name": "#%% md\n"
    }
   }
  },
  {
   "cell_type": "markdown",
   "source": [
    "## Neural Network Model"
   ],
   "metadata": {
    "collapsed": false,
    "pycharm": {
     "name": "#%% md\n"
    }
   }
  },
  {
   "cell_type": "code",
   "execution_count": 34,
   "outputs": [],
   "source": [
    "from sklearn.model_selection import train_test_split\n",
    "\n",
    "X_train = X_train_pd\n",
    "X_test = X_test_pd\n",
    "\n",
    "X_train, X_val, y_train, y_val = train_test_split(X_train, y_train, test_size=0.20, random_state=42)"
   ],
   "metadata": {
    "collapsed": false,
    "pycharm": {
     "name": "#%%\n"
    }
   }
  },
  {
   "cell_type": "code",
   "execution_count": 35,
   "outputs": [],
   "source": [
    "import tensorflow as tf"
   ],
   "metadata": {
    "collapsed": false,
    "pycharm": {
     "name": "#%%\n"
    }
   }
  },
  {
   "cell_type": "code",
   "execution_count": 36,
   "outputs": [
    {
     "name": "stderr",
     "output_type": "stream",
     "text": [
      "2022-10-28 20:05:15.069834: I tensorflow/core/platform/cpu_feature_guard.cc:145] This TensorFlow binary is optimized with Intel(R) MKL-DNN to use the following CPU instructions in performance critical operations:  SSE4.1 SSE4.2\n",
      "To enable them in non-MKL-DNN operations, rebuild TensorFlow with the appropriate compiler flags.\n",
      "2022-10-28 20:05:15.070365: I tensorflow/core/common_runtime/process_util.cc:115] Creating new thread pool with default inter op setting: 8. Tune using inter_op_parallelism_threads for best performance.\n"
     ]
    }
   ],
   "source": [
    "model = tf.keras.Sequential(\n",
    "    [\n",
    "        tf.keras.layers.InputLayer(X_train.shape[1], ),\n",
    "        tf.keras.layers.Dense(units=80,\n",
    "                              activation=\"elu\",\n",
    "                              kernel_initializer=\"he_normal\",\n",
    "                              name='L1'),\n",
    "        tf.keras.layers.Dense(units=60,\n",
    "                              activation=\"elu\",\n",
    "                              kernel_initializer=\"he_normal\",\n",
    "                              name='L4'),\n",
    "        tf.keras.layers.Dense(units=20,\n",
    "                              activation=\"elu\",\n",
    "                              kernel_initializer=\"he_normal\",\n",
    "                              name='L5'),\n",
    "        tf.keras.layers.Dense(units=1, activation='sigmoid', name='L6'),\n",
    "    ], name='model'\n",
    ")"
   ],
   "metadata": {
    "collapsed": false,
    "pycharm": {
     "name": "#%%\n"
    }
   }
  },
  {
   "cell_type": "code",
   "execution_count": 37,
   "outputs": [
    {
     "name": "stdout",
     "output_type": "stream",
     "text": [
      "Model: \"model\"\n",
      "_________________________________________________________________\n",
      "Layer (type)                 Output Shape              Param #   \n",
      "=================================================================\n",
      "L1 (Dense)                   (None, 80)                1200      \n",
      "_________________________________________________________________\n",
      "L4 (Dense)                   (None, 60)                4860      \n",
      "_________________________________________________________________\n",
      "L5 (Dense)                   (None, 20)                1220      \n",
      "_________________________________________________________________\n",
      "L6 (Dense)                   (None, 1)                 21        \n",
      "=================================================================\n",
      "Total params: 7,301\n",
      "Trainable params: 7,301\n",
      "Non-trainable params: 0\n",
      "_________________________________________________________________\n"
     ]
    }
   ],
   "source": [
    "model.summary()"
   ],
   "metadata": {
    "collapsed": false,
    "pycharm": {
     "name": "#%%\n"
    }
   }
  },
  {
   "cell_type": "code",
   "execution_count": 38,
   "outputs": [],
   "source": [
    "model.compile(loss=\"binary_crossentropy\",\n",
    "              optimizer=tf.keras.optimizers.Adam(lr=1e-3),\n",
    "              metrics=[\"accuracy\"])"
   ],
   "metadata": {
    "collapsed": false,
    "pycharm": {
     "name": "#%%\n"
    }
   }
  },
  {
   "cell_type": "code",
   "execution_count": 39,
   "outputs": [
    {
     "data": {
      "image/png": "[encoded data removed]",
      "text/plain": "<IPython.core.display.Image object>"
     },
     "execution_count": 39,
     "metadata": {},
     "output_type": "execute_result"
    }
   ],
   "source": [
    "tf.keras.utils.plot_model(model, show_shapes=True)"
   ],
   "metadata": {
    "collapsed": false,
    "pycharm": {
     "name": "#%%\n"
    }
   }
  },
  {
   "cell_type": "code",
   "execution_count": 40,
   "outputs": [
    {
     "name": "stdout",
     "output_type": "stream",
     "text": [
      "WARNING:tensorflow:Falling back from v2 loop because of error: Failed to find data adapter that can handle input: <class 'pandas.core.frame.DataFrame'>, <class 'NoneType'>\n",
      "Train on 712 samples, validate on 179 samples\n",
      "Epoch 1/20\n",
      "712/712 [==============================] - 0s 691us/sample - loss: 0.5014 - accuracy: 0.7795 - val_loss: 0.4423 - val_accuracy: 0.7877\n",
      "Epoch 2/20\n",
      "712/712 [==============================] - 0s 101us/sample - loss: 0.4596 - accuracy: 0.7851 - val_loss: 0.4241 - val_accuracy: 0.8101\n",
      "Epoch 3/20\n",
      "712/712 [==============================] - 0s 107us/sample - loss: 0.4366 - accuracy: 0.8132 - val_loss: 0.4206 - val_accuracy: 0.8045\n",
      "Epoch 4/20\n",
      "712/712 [==============================] - 0s 115us/sample - loss: 0.4313 - accuracy: 0.8188 - val_loss: 0.4160 - val_accuracy: 0.8212\n",
      "Epoch 5/20\n",
      "712/712 [==============================] - 0s 100us/sample - loss: 0.4353 - accuracy: 0.8076 - val_loss: 0.4174 - val_accuracy: 0.8045\n",
      "Epoch 6/20\n",
      "712/712 [==============================] - 0s 99us/sample - loss: 0.4254 - accuracy: 0.8202 - val_loss: 0.4236 - val_accuracy: 0.8045\n",
      "Epoch 7/20\n",
      "712/712 [==============================] - 0s 96us/sample - loss: 0.4244 - accuracy: 0.8146 - val_loss: 0.4154 - val_accuracy: 0.8156\n",
      "Epoch 8/20\n",
      "712/712 [==============================] - 0s 96us/sample - loss: 0.4217 - accuracy: 0.8188 - val_loss: 0.4285 - val_accuracy: 0.8156\n",
      "Epoch 9/20\n",
      "712/712 [==============================] - 0s 97us/sample - loss: 0.4231 - accuracy: 0.8174 - val_loss: 0.4219 - val_accuracy: 0.8268\n",
      "Epoch 10/20\n",
      "712/712 [==============================] - 0s 94us/sample - loss: 0.4203 - accuracy: 0.8202 - val_loss: 0.4231 - val_accuracy: 0.8212\n",
      "Epoch 11/20\n",
      "712/712 [==============================] - 0s 98us/sample - loss: 0.4205 - accuracy: 0.8146 - val_loss: 0.4233 - val_accuracy: 0.8045\n",
      "Epoch 12/20\n",
      "712/712 [==============================] - 0s 96us/sample - loss: 0.4194 - accuracy: 0.8174 - val_loss: 0.4334 - val_accuracy: 0.8212\n",
      "Epoch 13/20\n",
      "712/712 [==============================] - 0s 106us/sample - loss: 0.4199 - accuracy: 0.8202 - val_loss: 0.4302 - val_accuracy: 0.8324\n",
      "Epoch 14/20\n",
      "712/712 [==============================] - 0s 118us/sample - loss: 0.4146 - accuracy: 0.8188 - val_loss: 0.4296 - val_accuracy: 0.8324\n",
      "Epoch 15/20\n",
      "712/712 [==============================] - 0s 110us/sample - loss: 0.4181 - accuracy: 0.8188 - val_loss: 0.4281 - val_accuracy: 0.8268\n",
      "Epoch 16/20\n",
      "712/712 [==============================] - 0s 121us/sample - loss: 0.4164 - accuracy: 0.8146 - val_loss: 0.4192 - val_accuracy: 0.8156\n",
      "Epoch 17/20\n",
      "712/712 [==============================] - 0s 130us/sample - loss: 0.4215 - accuracy: 0.8118 - val_loss: 0.4243 - val_accuracy: 0.8212\n",
      "Epoch 18/20\n",
      "712/712 [==============================] - 0s 130us/sample - loss: 0.4179 - accuracy: 0.8287 - val_loss: 0.4291 - val_accuracy: 0.7989\n",
      "Epoch 19/20\n",
      "712/712 [==============================] - 0s 122us/sample - loss: 0.4218 - accuracy: 0.8202 - val_loss: 0.4274 - val_accuracy: 0.8101\n",
      "Epoch 20/20\n",
      "712/712 [==============================] - 0s 114us/sample - loss: 0.4203 - accuracy: 0.8146 - val_loss: 0.4246 - val_accuracy: 0.8268\n"
     ]
    }
   ],
   "source": [
    "history = model.fit(X_train, y_train, epochs=20, validation_data=[X_val, y_val])"
   ],
   "metadata": {
    "collapsed": false,
    "pycharm": {
     "name": "#%%\n"
    }
   }
  },
  {
   "cell_type": "code",
   "execution_count": 41,
   "outputs": [
    {
     "data": {
      "text/plain": "<Figure size 800x500 with 1 Axes>",
      "image/png": "[encoded data removed]"
     },
     "metadata": {},
     "output_type": "display_data"
    }
   ],
   "source": [
    "pd.DataFrame(history.history).plot(figsize=(8, 5))\n",
    "plt.grid(True)\n",
    "plt.gca().set_ylim(0, 1)\n",
    "plt.show()"
   ],
   "metadata": {
    "collapsed": false,
    "pycharm": {
     "name": "#%%\n"
    }
   }
  },
  {
   "cell_type": "code",
   "execution_count": 42,
   "outputs": [
    {
     "name": "stdout",
     "output_type": "stream",
     "text": [
      "WARNING:tensorflow:Falling back from v2 loop because of error: Failed to find data adapter that can handle input: <class 'pandas.core.frame.DataFrame'>, <class 'NoneType'>\n"
     ]
    }
   ],
   "source": [
    "y_pred_nn = model.predict_classes(X_test)"
   ],
   "metadata": {
    "collapsed": false,
    "pycharm": {
     "name": "#%%\n"
    }
   }
  },
  {
   "cell_type": "code",
   "execution_count": 45,
   "outputs": [
    {
     "data": {
      "text/plain": "0.784688995215311"
     },
     "execution_count": 45,
     "metadata": {},
     "output_type": "execute_result"
    }
   ],
   "source": [
    "accuracy_score(y_test, y_pred_nn)"
   ],
   "metadata": {
    "collapsed": false,
    "pycharm": {
     "name": "#%%\n"
    }
   }
  },
  {
   "cell_type": "markdown",
   "source": [
    "## Result"
   ],
   "metadata": {
    "collapsed": false,
    "pycharm": {
     "name": "#%% md\n"
    }
   }
  },
  {
   "cell_type": "markdown",
   "source": [
    "#### Neural networks, as always, are the best :)"
   ],
   "metadata": {
    "collapsed": false,
    "pycharm": {
     "name": "#%% md\n"
    }
   }
  }
 ],
 "metadata": {
  "kernelspec": {
   "display_name": "Python 3",
   "language": "python",
   "name": "python3"
  },
  "language_info": {
   "codemirror_mode": {
    "name": "ipython",
    "version": 2
   },
   "file_extension": ".py",
   "mimetype": "text/x-python",
   "name": "python",
   "nbconvert_exporter": "python",
   "pygments_lexer": "ipython2",
   "version": "2.7.6"
  }
 },
 "nbformat": 4,
 "nbformat_minor": 0
}